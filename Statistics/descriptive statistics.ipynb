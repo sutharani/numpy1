{
 "cells": [
  {
   "cell_type": "markdown",
   "id": "a3633be7-4aa8-4a3d-9000-7b41f360241c",
   "metadata": {},
   "source": [
    "## Descriptive Statistics"
   ]
  },
  {
   "cell_type": "code",
   "execution_count": 2,
   "id": "ce84c4c6-4140-42fd-8a7b-1c3cf8de4cca",
   "metadata": {},
   "outputs": [
    {
     "name": "stdout",
     "output_type": "stream",
     "text": [
      "Mean: 5.2\n",
      "Median: 5.0\n",
      "Mode: 3\n",
      "Range: 7\n",
      "Variance: 5.288888888888889\n",
      "Standard Deviation: 2.2997584414213788\n",
      "Percentiles (25th, 50th, 75th): [3.25 5.   6.75]\n"
     ]
    }
   ],
   "source": [
    "import pandas as pd\n",
    "import numpy as np\n",
    "\n",
    "# Sample Data\n",
    "data = {'Customer ID': [1, 2, 3, 4, 5, 6, 7, 8, 9, 10],\n",
    "        'Items Bought': [3, 5, 8, 2, 9, 4, 7, 5, 3, 6]}\n",
    "df = pd.DataFrame(data)\n",
    "\n",
    "# Descriptive Statistics\n",
    "mean = df['Items Bought'].mean()\n",
    "median = df['Items Bought'].median()\n",
    "mode = df['Items Bought'].mode()[0]\n",
    "range_val = df['Items Bought'].max() - df['Items Bought'].min()\n",
    "variance = df['Items Bought'].var()\n",
    "std_dev = df['Items Bought'].std()\n",
    "percentiles = np.percentile(df['Items Bought'], [25, 50, 75])\n",
    "\n",
    "print(f\"Mean: {mean}\")\n",
    "print(f\"Median: {median}\")\n",
    "print(f\"Mode: {mode}\")\n",
    "print(f\"Range: {range_val}\")\n",
    "print(f\"Variance: {variance}\")\n",
    "print(f\"Standard Deviation: {std_dev}\")\n",
    "print(f\"Percentiles (25th, 50th, 75th): {percentiles}\")\n"
   ]
  },
  {
   "cell_type": "code",
   "execution_count": null,
   "id": "99ff316a-703f-4daa-82ad-198199f5ece6",
   "metadata": {},
   "outputs": [],
   "source": []
  }
 ],
 "metadata": {
  "kernelspec": {
   "display_name": "Python 3 (ipykernel)",
   "language": "python",
   "name": "python3"
  },
  "language_info": {
   "codemirror_mode": {
    "name": "ipython",
    "version": 3
   },
   "file_extension": ".py",
   "mimetype": "text/x-python",
   "name": "python",
   "nbconvert_exporter": "python",
   "pygments_lexer": "ipython3",
   "version": "3.12.6"
  }
 },
 "nbformat": 4,
 "nbformat_minor": 5
}
