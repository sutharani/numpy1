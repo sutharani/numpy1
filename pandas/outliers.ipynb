{
 "cells": [
  {
   "cell_type": "markdown",
   "id": "82178769-13ae-41d3-bb69-34d2d88555cf",
   "metadata": {},
   "source": [
    "## Outliers, Skewness"
   ]
  },
  {
   "cell_type": "code",
   "execution_count": 1,
   "id": "1f2337f5-366b-47d3-9631-e2cb1a88ce89",
   "metadata": {},
   "outputs": [],
   "source": [
    "import numpy as np\n",
    "import pandas as pd"
   ]
  },
  {
   "cell_type": "code",
   "execution_count": 3,
   "id": "13491426-1da2-41d6-8035-a876d110d88e",
   "metadata": {},
   "outputs": [],
   "source": [
    "np.random.seed(0)"
   ]
  },
  {
   "cell_type": "code",
   "execution_count": 4,
   "id": "4633ee12-9235-4a76-be4f-1d1ef944b224",
   "metadata": {},
   "outputs": [],
   "source": [
    "data = {\n",
    "    'Age': np.random.normal(30, 10, 10000).tolist(), \n",
    "    'Income': np.random.normal(50000, 15000, 10000).tolist(),  \n",
    "    'Spending_Score': np.random.normal(60, 20, 10000).tolist()  \n",
    "}"
   ]
  },
  {
   "cell_type": "code",
   "execution_count": 5,
   "id": "5db744cb-ecaf-4538-bc46-83c8b6ccc50b",
   "metadata": {},
   "outputs": [],
   "source": [
    "data['Age'].extend([120, 130, 150])  \n",
    "data['Income'].extend([200000, 300000, 500000]) \n",
    "data['Spending_Score'].extend([5, 99, 120])  "
   ]
  },
  {
   "cell_type": "code",
   "execution_count": 6,
   "id": "896bed91-b6dc-4ba5-8ab8-7c6598b8eff7",
   "metadata": {},
   "outputs": [],
   "source": [
    "df=pd.DataFrame(data)"
   ]
  },
  {
   "cell_type": "code",
   "execution_count": 7,
   "id": "a680e1ce-85fa-4cae-ba85-220f4285c915",
   "metadata": {},
   "outputs": [
    {
     "data": {
      "text/html": [
       "<div>\n",
       "<style scoped>\n",
       "    .dataframe tbody tr th:only-of-type {\n",
       "        vertical-align: middle;\n",
       "    }\n",
       "\n",
       "    .dataframe tbody tr th {\n",
       "        vertical-align: top;\n",
       "    }\n",
       "\n",
       "    .dataframe thead th {\n",
       "        text-align: right;\n",
       "    }\n",
       "</style>\n",
       "<table border=\"1\" class=\"dataframe\">\n",
       "  <thead>\n",
       "    <tr style=\"text-align: right;\">\n",
       "      <th></th>\n",
       "      <th>Age</th>\n",
       "      <th>Income</th>\n",
       "      <th>Spending_Score</th>\n",
       "    </tr>\n",
       "  </thead>\n",
       "  <tbody>\n",
       "    <tr>\n",
       "      <th>0</th>\n",
       "      <td>47.640523</td>\n",
       "      <td>46968.244593</td>\n",
       "      <td>66.600918</td>\n",
       "    </tr>\n",
       "    <tr>\n",
       "      <th>1</th>\n",
       "      <td>34.001572</td>\n",
       "      <td>37501.534990</td>\n",
       "      <td>59.990400</td>\n",
       "    </tr>\n",
       "    <tr>\n",
       "      <th>2</th>\n",
       "      <td>39.787380</td>\n",
       "      <td>76004.003712</td>\n",
       "      <td>76.362318</td>\n",
       "    </tr>\n",
       "    <tr>\n",
       "      <th>3</th>\n",
       "      <td>52.408932</td>\n",
       "      <td>52859.735061</td>\n",
       "      <td>68.564274</td>\n",
       "    </tr>\n",
       "    <tr>\n",
       "      <th>4</th>\n",
       "      <td>48.675580</td>\n",
       "      <td>47332.844095</td>\n",
       "      <td>9.921054</td>\n",
       "    </tr>\n",
       "    <tr>\n",
       "      <th>...</th>\n",
       "      <td>...</td>\n",
       "      <td>...</td>\n",
       "      <td>...</td>\n",
       "    </tr>\n",
       "    <tr>\n",
       "      <th>9998</th>\n",
       "      <td>29.670793</td>\n",
       "      <td>34116.031075</td>\n",
       "      <td>79.536877</td>\n",
       "    </tr>\n",
       "    <tr>\n",
       "      <th>9999</th>\n",
       "      <td>42.981114</td>\n",
       "      <td>45102.073364</td>\n",
       "      <td>85.110013</td>\n",
       "    </tr>\n",
       "    <tr>\n",
       "      <th>10000</th>\n",
       "      <td>120.000000</td>\n",
       "      <td>200000.000000</td>\n",
       "      <td>5.000000</td>\n",
       "    </tr>\n",
       "    <tr>\n",
       "      <th>10001</th>\n",
       "      <td>130.000000</td>\n",
       "      <td>300000.000000</td>\n",
       "      <td>99.000000</td>\n",
       "    </tr>\n",
       "    <tr>\n",
       "      <th>10002</th>\n",
       "      <td>150.000000</td>\n",
       "      <td>500000.000000</td>\n",
       "      <td>120.000000</td>\n",
       "    </tr>\n",
       "  </tbody>\n",
       "</table>\n",
       "<p>10003 rows × 3 columns</p>\n",
       "</div>"
      ],
      "text/plain": [
       "              Age         Income  Spending_Score\n",
       "0       47.640523   46968.244593       66.600918\n",
       "1       34.001572   37501.534990       59.990400\n",
       "2       39.787380   76004.003712       76.362318\n",
       "3       52.408932   52859.735061       68.564274\n",
       "4       48.675580   47332.844095        9.921054\n",
       "...           ...            ...             ...\n",
       "9998    29.670793   34116.031075       79.536877\n",
       "9999    42.981114   45102.073364       85.110013\n",
       "10000  120.000000  200000.000000        5.000000\n",
       "10001  130.000000  300000.000000       99.000000\n",
       "10002  150.000000  500000.000000      120.000000\n",
       "\n",
       "[10003 rows x 3 columns]"
      ]
     },
     "execution_count": 7,
     "metadata": {},
     "output_type": "execute_result"
    }
   ],
   "source": [
    "df"
   ]
  },
  {
   "cell_type": "code",
   "execution_count": 8,
   "id": "8f60f898-73b4-4740-8a26-0679982bff5b",
   "metadata": {},
   "outputs": [
    {
     "data": {
      "text/html": [
       "<div>\n",
       "<style scoped>\n",
       "    .dataframe tbody tr th:only-of-type {\n",
       "        vertical-align: middle;\n",
       "    }\n",
       "\n",
       "    .dataframe tbody tr th {\n",
       "        vertical-align: top;\n",
       "    }\n",
       "\n",
       "    .dataframe thead th {\n",
       "        text-align: right;\n",
       "    }\n",
       "</style>\n",
       "<table border=\"1\" class=\"dataframe\">\n",
       "  <thead>\n",
       "    <tr style=\"text-align: right;\">\n",
       "      <th></th>\n",
       "      <th>Age</th>\n",
       "      <th>Income</th>\n",
       "      <th>Spending_Score</th>\n",
       "    </tr>\n",
       "  </thead>\n",
       "  <tbody>\n",
       "    <tr>\n",
       "      <th>0</th>\n",
       "      <td>47.640523</td>\n",
       "      <td>46968.244593</td>\n",
       "      <td>66.600918</td>\n",
       "    </tr>\n",
       "    <tr>\n",
       "      <th>1</th>\n",
       "      <td>34.001572</td>\n",
       "      <td>37501.534990</td>\n",
       "      <td>59.990400</td>\n",
       "    </tr>\n",
       "    <tr>\n",
       "      <th>2</th>\n",
       "      <td>39.787380</td>\n",
       "      <td>76004.003712</td>\n",
       "      <td>76.362318</td>\n",
       "    </tr>\n",
       "    <tr>\n",
       "      <th>3</th>\n",
       "      <td>52.408932</td>\n",
       "      <td>52859.735061</td>\n",
       "      <td>68.564274</td>\n",
       "    </tr>\n",
       "    <tr>\n",
       "      <th>4</th>\n",
       "      <td>48.675580</td>\n",
       "      <td>47332.844095</td>\n",
       "      <td>9.921054</td>\n",
       "    </tr>\n",
       "  </tbody>\n",
       "</table>\n",
       "</div>"
      ],
      "text/plain": [
       "         Age        Income  Spending_Score\n",
       "0  47.640523  46968.244593       66.600918\n",
       "1  34.001572  37501.534990       59.990400\n",
       "2  39.787380  76004.003712       76.362318\n",
       "3  52.408932  52859.735061       68.564274\n",
       "4  48.675580  47332.844095        9.921054"
      ]
     },
     "execution_count": 8,
     "metadata": {},
     "output_type": "execute_result"
    }
   ],
   "source": [
    "df.head()"
   ]
  },
  {
   "cell_type": "markdown",
   "id": "033483d1-87e1-4566-bab4-b5020dc4f50b",
   "metadata": {},
   "source": [
    "## Outliers"
   ]
  },
  {
   "cell_type": "code",
   "execution_count": 13,
   "id": "6aaf74e7-42ee-4d00-8a7b-260c0eee280a",
   "metadata": {},
   "outputs": [],
   "source": [
    "def detect_outliers_large(column):\n",
    "    Q1=df[column].quantile(0.25)\n",
    "    Q3=df[column].quantile(0.75)\n",
    "    IQR=Q3-Q1\n",
    "    lower_bond=Q1 - 1.5 * IQR\n",
    "    upper_bond=Q3 + 1.5 * IQR\n",
    "    outliers=df[(df[column]< lower_bond) | (df[column]>upper_bond)]\n",
    "    return outliers\n",
    "    \n",
    "    "
   ]
  },
  {
   "cell_type": "code",
   "execution_count": 15,
   "id": "d74b75af-0c8f-4553-9699-bfabca6afcc8",
   "metadata": {},
   "outputs": [
    {
     "name": "stdout",
     "output_type": "stream",
     "text": [
      "              Age         Income  Spending_Score\n",
      "271      2.274072   46348.060478       81.516312\n",
      "427      2.603228   68784.035540       53.916671\n",
      "494     56.962241   37737.494444       39.735798\n",
      "589     -0.461431   46404.531331       36.650246\n",
      "685      1.654455   56906.176084       59.632355\n",
      "...           ...            ...             ...\n",
      "9849     2.543346   21150.013345       31.243349\n",
      "9901    58.652035   44474.143355       51.013196\n",
      "10000  120.000000  200000.000000        5.000000\n",
      "10001  130.000000  300000.000000       99.000000\n",
      "10002  150.000000  500000.000000      120.000000\n",
      "\n",
      "[67 rows x 3 columns]\n"
     ]
    }
   ],
   "source": [
    "print(detect_outliers_large('Age'))"
   ]
  },
  {
   "cell_type": "markdown",
   "id": "725f4cfc-833c-4627-bd96-ffce306bd88e",
   "metadata": {},
   "source": [
    "## Skewness"
   ]
  },
  {
   "cell_type": "code",
   "execution_count": 16,
   "id": "22a62983-2f1f-4c2c-aaad-fe09d14bd825",
   "metadata": {},
   "outputs": [
    {
     "name": "stdout",
     "output_type": "stream",
     "text": [
      "Age               0.359620\n",
      "Income            2.777153\n",
      "Spending_Score   -0.037771\n",
      "dtype: float64\n"
     ]
    }
   ],
   "source": [
    "print(df.skew())"
   ]
  },
  {
   "cell_type": "markdown",
   "id": "008ff10c-d889-4927-9a74-3a7a5043fa20",
   "metadata": {},
   "source": [
    "## Kurtosis"
   ]
  },
  {
   "cell_type": "code",
   "execution_count": 17,
   "id": "78aac6f0-f81a-469c-8d6e-4ce65e4c5531",
   "metadata": {},
   "outputs": [
    {
     "name": "stdout",
     "output_type": "stream",
     "text": [
      "Age                3.476649\n",
      "Income            71.596729\n",
      "Spending_Score     0.064317\n",
      "dtype: float64\n"
     ]
    }
   ],
   "source": [
    "print(df.kurt())"
   ]
  },
  {
   "cell_type": "code",
   "execution_count": null,
   "id": "6d4c99d3-a80b-46fe-8972-c7041be3ee44",
   "metadata": {},
   "outputs": [],
   "source": []
  },
  {
   "cell_type": "code",
   "execution_count": null,
   "id": "21c8f220-6cf1-4139-b344-7d44e1dd3007",
   "metadata": {},
   "outputs": [],
   "source": [
    "\n"
   ]
  },
  {
   "cell_type": "code",
   "execution_count": null,
   "id": "9b87f40b-918c-49c5-a216-8ec38606658d",
   "metadata": {},
   "outputs": [],
   "source": []
  },
  {
   "cell_type": "code",
   "execution_count": null,
   "id": "29dfe359-c6ca-48d6-b7ed-15ee4d7f88f3",
   "metadata": {},
   "outputs": [],
   "source": []
  }
 ],
 "metadata": {
  "kernelspec": {
   "display_name": "Python 3 (ipykernel)",
   "language": "python",
   "name": "python3"
  },
  "language_info": {
   "codemirror_mode": {
    "name": "ipython",
    "version": 3
   },
   "file_extension": ".py",
   "mimetype": "text/x-python",
   "name": "python",
   "nbconvert_exporter": "python",
   "pygments_lexer": "ipython3",
   "version": "3.12.6"
  }
 },
 "nbformat": 4,
 "nbformat_minor": 5
}
