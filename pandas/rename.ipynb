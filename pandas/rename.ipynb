{
 "cells": [
  {
   "cell_type": "markdown",
   "id": "efbb12cb-657f-4203-94ea-c6759dc2dcf3",
   "metadata": {},
   "source": [
    "## GroupBy Reshaping Pivot Table"
   ]
  },
  {
   "cell_type": "code",
   "execution_count": 1,
   "id": "60f2141d-f513-4337-a682-2a45e820a286",
   "metadata": {},
   "outputs": [],
   "source": [
    "import pandas as pd"
   ]
  },
  {
   "cell_type": "code",
   "execution_count": 2,
   "id": "3d8a2b6e-9deb-488c-8a73-b13741d054e9",
   "metadata": {},
   "outputs": [],
   "source": [
    "data = {\n",
    "    'Employee': ['John', 'Anna', 'Peter', 'Linda', 'James', 'Laura', 'Michael'],\n",
    "    'Department': ['HR', 'IT', 'IT', 'HR', 'IT', 'HR', 'Finance'],\n",
    "    'Salary': [60000, 75000, 80000, 62000, 70000, 59000, 85000],\n",
    "    'Experience': [5, 8, 6, 7, 4, 3, 10]\n",
    "}"
   ]
  },
  {
   "cell_type": "code",
   "execution_count": 4,
   "id": "13308dd7-aac6-4b06-8b9d-1530906ef4bc",
   "metadata": {},
   "outputs": [],
   "source": [
    "df=pd.DataFrame(data)"
   ]
  },
  {
   "cell_type": "code",
   "execution_count": 5,
   "id": "bfd585f0-9ce2-452a-bc2b-61c8fa5d1fa2",
   "metadata": {},
   "outputs": [
    {
     "data": {
      "text/html": [
       "<div>\n",
       "<style scoped>\n",
       "    .dataframe tbody tr th:only-of-type {\n",
       "        vertical-align: middle;\n",
       "    }\n",
       "\n",
       "    .dataframe tbody tr th {\n",
       "        vertical-align: top;\n",
       "    }\n",
       "\n",
       "    .dataframe thead th {\n",
       "        text-align: right;\n",
       "    }\n",
       "</style>\n",
       "<table border=\"1\" class=\"dataframe\">\n",
       "  <thead>\n",
       "    <tr style=\"text-align: right;\">\n",
       "      <th></th>\n",
       "      <th>Employee</th>\n",
       "      <th>Department</th>\n",
       "      <th>Salary</th>\n",
       "      <th>Experience</th>\n",
       "    </tr>\n",
       "  </thead>\n",
       "  <tbody>\n",
       "    <tr>\n",
       "      <th>0</th>\n",
       "      <td>John</td>\n",
       "      <td>HR</td>\n",
       "      <td>60000</td>\n",
       "      <td>5</td>\n",
       "    </tr>\n",
       "    <tr>\n",
       "      <th>1</th>\n",
       "      <td>Anna</td>\n",
       "      <td>IT</td>\n",
       "      <td>75000</td>\n",
       "      <td>8</td>\n",
       "    </tr>\n",
       "    <tr>\n",
       "      <th>2</th>\n",
       "      <td>Peter</td>\n",
       "      <td>IT</td>\n",
       "      <td>80000</td>\n",
       "      <td>6</td>\n",
       "    </tr>\n",
       "    <tr>\n",
       "      <th>3</th>\n",
       "      <td>Linda</td>\n",
       "      <td>HR</td>\n",
       "      <td>62000</td>\n",
       "      <td>7</td>\n",
       "    </tr>\n",
       "    <tr>\n",
       "      <th>4</th>\n",
       "      <td>James</td>\n",
       "      <td>IT</td>\n",
       "      <td>70000</td>\n",
       "      <td>4</td>\n",
       "    </tr>\n",
       "    <tr>\n",
       "      <th>5</th>\n",
       "      <td>Laura</td>\n",
       "      <td>HR</td>\n",
       "      <td>59000</td>\n",
       "      <td>3</td>\n",
       "    </tr>\n",
       "    <tr>\n",
       "      <th>6</th>\n",
       "      <td>Michael</td>\n",
       "      <td>Finance</td>\n",
       "      <td>85000</td>\n",
       "      <td>10</td>\n",
       "    </tr>\n",
       "  </tbody>\n",
       "</table>\n",
       "</div>"
      ],
      "text/plain": [
       "  Employee Department  Salary  Experience\n",
       "0     John         HR   60000           5\n",
       "1     Anna         IT   75000           8\n",
       "2    Peter         IT   80000           6\n",
       "3    Linda         HR   62000           7\n",
       "4    James         IT   70000           4\n",
       "5    Laura         HR   59000           3\n",
       "6  Michael    Finance   85000          10"
      ]
     },
     "execution_count": 5,
     "metadata": {},
     "output_type": "execute_result"
    }
   ],
   "source": [
    "df"
   ]
  },
  {
   "cell_type": "code",
   "execution_count": 7,
   "id": "8453a5d0-08fe-4d23-8631-61e21541592b",
   "metadata": {},
   "outputs": [],
   "source": [
    "agg = df.groupby('Department').agg(\n",
    "    avg_salary=('Salary', 'mean'),\n",
    "    max_salary=('Salary', 'max'),\n",
    "    avg_experience=('Experience', 'mean')\n",
    ")\n"
   ]
  },
  {
   "cell_type": "code",
   "execution_count": 8,
   "id": "46aa0e14-b11a-49d7-bb12-5c23bff33235",
   "metadata": {},
   "outputs": [
    {
     "data": {
      "text/html": [
       "<div>\n",
       "<style scoped>\n",
       "    .dataframe tbody tr th:only-of-type {\n",
       "        vertical-align: middle;\n",
       "    }\n",
       "\n",
       "    .dataframe tbody tr th {\n",
       "        vertical-align: top;\n",
       "    }\n",
       "\n",
       "    .dataframe thead th {\n",
       "        text-align: right;\n",
       "    }\n",
       "</style>\n",
       "<table border=\"1\" class=\"dataframe\">\n",
       "  <thead>\n",
       "    <tr style=\"text-align: right;\">\n",
       "      <th></th>\n",
       "      <th>avg_salary</th>\n",
       "      <th>max_salary</th>\n",
       "      <th>avg_experience</th>\n",
       "    </tr>\n",
       "    <tr>\n",
       "      <th>Department</th>\n",
       "      <th></th>\n",
       "      <th></th>\n",
       "      <th></th>\n",
       "    </tr>\n",
       "  </thead>\n",
       "  <tbody>\n",
       "    <tr>\n",
       "      <th>Finance</th>\n",
       "      <td>85000.000000</td>\n",
       "      <td>85000</td>\n",
       "      <td>10.0</td>\n",
       "    </tr>\n",
       "    <tr>\n",
       "      <th>HR</th>\n",
       "      <td>60333.333333</td>\n",
       "      <td>62000</td>\n",
       "      <td>5.0</td>\n",
       "    </tr>\n",
       "    <tr>\n",
       "      <th>IT</th>\n",
       "      <td>75000.000000</td>\n",
       "      <td>80000</td>\n",
       "      <td>6.0</td>\n",
       "    </tr>\n",
       "  </tbody>\n",
       "</table>\n",
       "</div>"
      ],
      "text/plain": [
       "              avg_salary  max_salary  avg_experience\n",
       "Department                                          \n",
       "Finance     85000.000000       85000            10.0\n",
       "HR          60333.333333       62000             5.0\n",
       "IT          75000.000000       80000             6.0"
      ]
     },
     "execution_count": 8,
     "metadata": {},
     "output_type": "execute_result"
    }
   ],
   "source": [
    "agg"
   ]
  },
  {
   "cell_type": "code",
   "execution_count": 10,
   "id": "c86435cd-b368-4116-ab38-aa1729848711",
   "metadata": {},
   "outputs": [],
   "source": [
    "filtered=agg[agg['avg_salary']>80000]"
   ]
  },
  {
   "cell_type": "code",
   "execution_count": 11,
   "id": "4c705111-61b7-4659-ab0f-b56c84ec5004",
   "metadata": {},
   "outputs": [
    {
     "data": {
      "text/html": [
       "<div>\n",
       "<style scoped>\n",
       "    .dataframe tbody tr th:only-of-type {\n",
       "        vertical-align: middle;\n",
       "    }\n",
       "\n",
       "    .dataframe tbody tr th {\n",
       "        vertical-align: top;\n",
       "    }\n",
       "\n",
       "    .dataframe thead th {\n",
       "        text-align: right;\n",
       "    }\n",
       "</style>\n",
       "<table border=\"1\" class=\"dataframe\">\n",
       "  <thead>\n",
       "    <tr style=\"text-align: right;\">\n",
       "      <th></th>\n",
       "      <th>avg_salary</th>\n",
       "      <th>max_salary</th>\n",
       "      <th>avg_experience</th>\n",
       "    </tr>\n",
       "    <tr>\n",
       "      <th>Department</th>\n",
       "      <th></th>\n",
       "      <th></th>\n",
       "      <th></th>\n",
       "    </tr>\n",
       "  </thead>\n",
       "  <tbody>\n",
       "    <tr>\n",
       "      <th>Finance</th>\n",
       "      <td>85000.0</td>\n",
       "      <td>85000</td>\n",
       "      <td>10.0</td>\n",
       "    </tr>\n",
       "  </tbody>\n",
       "</table>\n",
       "</div>"
      ],
      "text/plain": [
       "            avg_salary  max_salary  avg_experience\n",
       "Department                                        \n",
       "Finance        85000.0       85000            10.0"
      ]
     },
     "execution_count": 11,
     "metadata": {},
     "output_type": "execute_result"
    }
   ],
   "source": [
    "filtered"
   ]
  },
  {
   "cell_type": "code",
   "execution_count": 12,
   "id": "e69528ba-49d8-428c-8999-640b30a341f9",
   "metadata": {},
   "outputs": [
    {
     "data": {
      "text/html": [
       "<div>\n",
       "<style scoped>\n",
       "    .dataframe tbody tr th:only-of-type {\n",
       "        vertical-align: middle;\n",
       "    }\n",
       "\n",
       "    .dataframe tbody tr th {\n",
       "        vertical-align: top;\n",
       "    }\n",
       "\n",
       "    .dataframe thead th {\n",
       "        text-align: right;\n",
       "    }\n",
       "</style>\n",
       "<table border=\"1\" class=\"dataframe\">\n",
       "  <thead>\n",
       "    <tr style=\"text-align: right;\">\n",
       "      <th></th>\n",
       "      <th>Employee</th>\n",
       "      <th>Department</th>\n",
       "      <th>Salary</th>\n",
       "      <th>Experience</th>\n",
       "    </tr>\n",
       "  </thead>\n",
       "  <tbody>\n",
       "    <tr>\n",
       "      <th>0</th>\n",
       "      <td>John</td>\n",
       "      <td>HR</td>\n",
       "      <td>60000</td>\n",
       "      <td>5</td>\n",
       "    </tr>\n",
       "    <tr>\n",
       "      <th>1</th>\n",
       "      <td>Anna</td>\n",
       "      <td>IT</td>\n",
       "      <td>75000</td>\n",
       "      <td>8</td>\n",
       "    </tr>\n",
       "    <tr>\n",
       "      <th>2</th>\n",
       "      <td>Peter</td>\n",
       "      <td>IT</td>\n",
       "      <td>80000</td>\n",
       "      <td>6</td>\n",
       "    </tr>\n",
       "    <tr>\n",
       "      <th>3</th>\n",
       "      <td>Linda</td>\n",
       "      <td>HR</td>\n",
       "      <td>62000</td>\n",
       "      <td>7</td>\n",
       "    </tr>\n",
       "    <tr>\n",
       "      <th>4</th>\n",
       "      <td>James</td>\n",
       "      <td>IT</td>\n",
       "      <td>70000</td>\n",
       "      <td>4</td>\n",
       "    </tr>\n",
       "    <tr>\n",
       "      <th>5</th>\n",
       "      <td>Laura</td>\n",
       "      <td>HR</td>\n",
       "      <td>59000</td>\n",
       "      <td>3</td>\n",
       "    </tr>\n",
       "    <tr>\n",
       "      <th>6</th>\n",
       "      <td>Michael</td>\n",
       "      <td>Finance</td>\n",
       "      <td>85000</td>\n",
       "      <td>10</td>\n",
       "    </tr>\n",
       "  </tbody>\n",
       "</table>\n",
       "</div>"
      ],
      "text/plain": [
       "  Employee Department  Salary  Experience\n",
       "0     John         HR   60000           5\n",
       "1     Anna         IT   75000           8\n",
       "2    Peter         IT   80000           6\n",
       "3    Linda         HR   62000           7\n",
       "4    James         IT   70000           4\n",
       "5    Laura         HR   59000           3\n",
       "6  Michael    Finance   85000          10"
      ]
     },
     "execution_count": 12,
     "metadata": {},
     "output_type": "execute_result"
    }
   ],
   "source": [
    "df"
   ]
  },
  {
   "cell_type": "markdown",
   "id": "877726e1-0350-40ce-b701-10a40a1acd9a",
   "metadata": {},
   "source": [
    "## Reshaping Melt & Stack"
   ]
  },
  {
   "cell_type": "code",
   "execution_count": 13,
   "id": "c8209b78-453b-4b7c-ab11-adf76cb2c18e",
   "metadata": {},
   "outputs": [],
   "source": [
    "data = {\n",
    "    'Name': ['Alice', 'Bob', 'Charlie'],\n",
    "    'Math': [90, 85, 80],\n",
    "    'Science': [88, 92, 85],\n",
    "    'English': [95, 85, 89]\n",
    "}\n"
   ]
  },
  {
   "cell_type": "code",
   "execution_count": 14,
   "id": "2b4e1867-f285-452f-bc00-25869416bbd9",
   "metadata": {},
   "outputs": [
    {
     "data": {
      "text/html": [
       "<div>\n",
       "<style scoped>\n",
       "    .dataframe tbody tr th:only-of-type {\n",
       "        vertical-align: middle;\n",
       "    }\n",
       "\n",
       "    .dataframe tbody tr th {\n",
       "        vertical-align: top;\n",
       "    }\n",
       "\n",
       "    .dataframe thead th {\n",
       "        text-align: right;\n",
       "    }\n",
       "</style>\n",
       "<table border=\"1\" class=\"dataframe\">\n",
       "  <thead>\n",
       "    <tr style=\"text-align: right;\">\n",
       "      <th></th>\n",
       "      <th>Name</th>\n",
       "      <th>Math</th>\n",
       "      <th>Science</th>\n",
       "      <th>English</th>\n",
       "    </tr>\n",
       "  </thead>\n",
       "  <tbody>\n",
       "    <tr>\n",
       "      <th>0</th>\n",
       "      <td>Alice</td>\n",
       "      <td>90</td>\n",
       "      <td>88</td>\n",
       "      <td>95</td>\n",
       "    </tr>\n",
       "    <tr>\n",
       "      <th>1</th>\n",
       "      <td>Bob</td>\n",
       "      <td>85</td>\n",
       "      <td>92</td>\n",
       "      <td>85</td>\n",
       "    </tr>\n",
       "    <tr>\n",
       "      <th>2</th>\n",
       "      <td>Charlie</td>\n",
       "      <td>80</td>\n",
       "      <td>85</td>\n",
       "      <td>89</td>\n",
       "    </tr>\n",
       "  </tbody>\n",
       "</table>\n",
       "</div>"
      ],
      "text/plain": [
       "      Name  Math  Science  English\n",
       "0    Alice    90       88       95\n",
       "1      Bob    85       92       85\n",
       "2  Charlie    80       85       89"
      ]
     },
     "execution_count": 14,
     "metadata": {},
     "output_type": "execute_result"
    }
   ],
   "source": [
    "df=pd.DataFrame(data)\n",
    "df"
   ]
  },
  {
   "cell_type": "code",
   "execution_count": 15,
   "id": "1633b7a1-f1f7-4c26-bae7-425ab300e45e",
   "metadata": {},
   "outputs": [
    {
     "data": {
      "text/html": [
       "<div>\n",
       "<style scoped>\n",
       "    .dataframe tbody tr th:only-of-type {\n",
       "        vertical-align: middle;\n",
       "    }\n",
       "\n",
       "    .dataframe tbody tr th {\n",
       "        vertical-align: top;\n",
       "    }\n",
       "\n",
       "    .dataframe thead th {\n",
       "        text-align: right;\n",
       "    }\n",
       "</style>\n",
       "<table border=\"1\" class=\"dataframe\">\n",
       "  <thead>\n",
       "    <tr style=\"text-align: right;\">\n",
       "      <th></th>\n",
       "      <th>Name</th>\n",
       "      <th>subject</th>\n",
       "      <th>Grade</th>\n",
       "    </tr>\n",
       "  </thead>\n",
       "  <tbody>\n",
       "    <tr>\n",
       "      <th>0</th>\n",
       "      <td>Alice</td>\n",
       "      <td>Math</td>\n",
       "      <td>90</td>\n",
       "    </tr>\n",
       "    <tr>\n",
       "      <th>1</th>\n",
       "      <td>Bob</td>\n",
       "      <td>Math</td>\n",
       "      <td>85</td>\n",
       "    </tr>\n",
       "    <tr>\n",
       "      <th>2</th>\n",
       "      <td>Charlie</td>\n",
       "      <td>Math</td>\n",
       "      <td>80</td>\n",
       "    </tr>\n",
       "    <tr>\n",
       "      <th>3</th>\n",
       "      <td>Alice</td>\n",
       "      <td>Science</td>\n",
       "      <td>88</td>\n",
       "    </tr>\n",
       "    <tr>\n",
       "      <th>4</th>\n",
       "      <td>Bob</td>\n",
       "      <td>Science</td>\n",
       "      <td>92</td>\n",
       "    </tr>\n",
       "    <tr>\n",
       "      <th>5</th>\n",
       "      <td>Charlie</td>\n",
       "      <td>Science</td>\n",
       "      <td>85</td>\n",
       "    </tr>\n",
       "    <tr>\n",
       "      <th>6</th>\n",
       "      <td>Alice</td>\n",
       "      <td>English</td>\n",
       "      <td>95</td>\n",
       "    </tr>\n",
       "    <tr>\n",
       "      <th>7</th>\n",
       "      <td>Bob</td>\n",
       "      <td>English</td>\n",
       "      <td>85</td>\n",
       "    </tr>\n",
       "    <tr>\n",
       "      <th>8</th>\n",
       "      <td>Charlie</td>\n",
       "      <td>English</td>\n",
       "      <td>89</td>\n",
       "    </tr>\n",
       "  </tbody>\n",
       "</table>\n",
       "</div>"
      ],
      "text/plain": [
       "      Name  subject  Grade\n",
       "0    Alice     Math     90\n",
       "1      Bob     Math     85\n",
       "2  Charlie     Math     80\n",
       "3    Alice  Science     88\n",
       "4      Bob  Science     92\n",
       "5  Charlie  Science     85\n",
       "6    Alice  English     95\n",
       "7      Bob  English     85\n",
       "8  Charlie  English     89"
      ]
     },
     "execution_count": 15,
     "metadata": {},
     "output_type": "execute_result"
    }
   ],
   "source": [
    "melted=df.melt(id_vars='Name',var_name='subject', value_name='Grade')\n",
    "melted"
   ]
  },
  {
   "cell_type": "code",
   "execution_count": null,
   "id": "53e00525-9c4c-4bb4-ba63-0ff7c0fc5db1",
   "metadata": {},
   "outputs": [],
   "source": [
    "# Stacking data"
   ]
  },
  {
   "cell_type": "code",
   "execution_count": 16,
   "id": "81d485ae-ddc0-43ee-a353-0e7b4b5c408d",
   "metadata": {},
   "outputs": [
    {
     "data": {
      "text/plain": [
       "Name            \n",
       "Alice    Math       90\n",
       "         Science    88\n",
       "         English    95\n",
       "Bob      Math       85\n",
       "         Science    92\n",
       "         English    85\n",
       "Charlie  Math       80\n",
       "         Science    85\n",
       "         English    89\n",
       "dtype: int64"
      ]
     },
     "execution_count": 16,
     "metadata": {},
     "output_type": "execute_result"
    }
   ],
   "source": [
    "stacked=df.set_index('Name').stack()\n",
    "stacked"
   ]
  },
  {
   "cell_type": "code",
   "execution_count": 17,
   "id": "545c6cd0-f443-4727-8201-135e6b225a6c",
   "metadata": {},
   "outputs": [],
   "source": [
    "# Unstacking data"
   ]
  },
  {
   "cell_type": "code",
   "execution_count": 18,
   "id": "053c8159-b7a7-4299-9ed2-f9ec52266ada",
   "metadata": {},
   "outputs": [
    {
     "data": {
      "text/html": [
       "<div>\n",
       "<style scoped>\n",
       "    .dataframe tbody tr th:only-of-type {\n",
       "        vertical-align: middle;\n",
       "    }\n",
       "\n",
       "    .dataframe tbody tr th {\n",
       "        vertical-align: top;\n",
       "    }\n",
       "\n",
       "    .dataframe thead th {\n",
       "        text-align: right;\n",
       "    }\n",
       "</style>\n",
       "<table border=\"1\" class=\"dataframe\">\n",
       "  <thead>\n",
       "    <tr style=\"text-align: right;\">\n",
       "      <th></th>\n",
       "      <th>Math</th>\n",
       "      <th>Science</th>\n",
       "      <th>English</th>\n",
       "    </tr>\n",
       "    <tr>\n",
       "      <th>Name</th>\n",
       "      <th></th>\n",
       "      <th></th>\n",
       "      <th></th>\n",
       "    </tr>\n",
       "  </thead>\n",
       "  <tbody>\n",
       "    <tr>\n",
       "      <th>Alice</th>\n",
       "      <td>90</td>\n",
       "      <td>88</td>\n",
       "      <td>95</td>\n",
       "    </tr>\n",
       "    <tr>\n",
       "      <th>Bob</th>\n",
       "      <td>85</td>\n",
       "      <td>92</td>\n",
       "      <td>85</td>\n",
       "    </tr>\n",
       "    <tr>\n",
       "      <th>Charlie</th>\n",
       "      <td>80</td>\n",
       "      <td>85</td>\n",
       "      <td>89</td>\n",
       "    </tr>\n",
       "  </tbody>\n",
       "</table>\n",
       "</div>"
      ],
      "text/plain": [
       "         Math  Science  English\n",
       "Name                           \n",
       "Alice      90       88       95\n",
       "Bob        85       92       85\n",
       "Charlie    80       85       89"
      ]
     },
     "execution_count": 18,
     "metadata": {},
     "output_type": "execute_result"
    }
   ],
   "source": [
    "unstacked=stacked.unstack()\n",
    "unstacked"
   ]
  },
  {
   "cell_type": "markdown",
   "id": "24cc0ed6-b2f9-4658-ac59-4744349f3d05",
   "metadata": {},
   "source": [
    "##  Pivot Tables"
   ]
  },
  {
   "cell_type": "code",
   "execution_count": 23,
   "id": "be30596e-74e2-44c9-a4f6-6fd4f7a46b3d",
   "metadata": {},
   "outputs": [],
   "source": [
    "data = {\n",
    "    'OrderID': [1, 2, 3, 4, 5, 6],\n",
    "    'Product': ['Shoes', 'Shoes', 'Shirt', 'Shirt', 'Shirt', 'Shoes'],\n",
    "    'Category': ['Footwear', 'Footwear', 'Apparel', 'Apparel', 'Apparel', 'Footwear'],\n",
    "    'Quantity': [2, 3, 1, 5, 2, 4],\n",
    "    'Price': [50, 50, 30, 30, 30, 50],\n",
    "    'City': ['New York', 'Los Angeles', 'New York', 'New York', 'Los Angeles', 'New York']\n",
    "}"
   ]
  },
  {
   "cell_type": "code",
   "execution_count": 24,
   "id": "453cb733-ec38-4b94-abad-4c97fba548f5",
   "metadata": {},
   "outputs": [
    {
     "data": {
      "text/html": [
       "<div>\n",
       "<style scoped>\n",
       "    .dataframe tbody tr th:only-of-type {\n",
       "        vertical-align: middle;\n",
       "    }\n",
       "\n",
       "    .dataframe tbody tr th {\n",
       "        vertical-align: top;\n",
       "    }\n",
       "\n",
       "    .dataframe thead th {\n",
       "        text-align: right;\n",
       "    }\n",
       "</style>\n",
       "<table border=\"1\" class=\"dataframe\">\n",
       "  <thead>\n",
       "    <tr style=\"text-align: right;\">\n",
       "      <th></th>\n",
       "      <th>OrderID</th>\n",
       "      <th>Product</th>\n",
       "      <th>Category</th>\n",
       "      <th>Quantity</th>\n",
       "      <th>Price</th>\n",
       "      <th>City</th>\n",
       "    </tr>\n",
       "  </thead>\n",
       "  <tbody>\n",
       "    <tr>\n",
       "      <th>0</th>\n",
       "      <td>1</td>\n",
       "      <td>Shoes</td>\n",
       "      <td>Footwear</td>\n",
       "      <td>2</td>\n",
       "      <td>50</td>\n",
       "      <td>New York</td>\n",
       "    </tr>\n",
       "    <tr>\n",
       "      <th>1</th>\n",
       "      <td>2</td>\n",
       "      <td>Shoes</td>\n",
       "      <td>Footwear</td>\n",
       "      <td>3</td>\n",
       "      <td>50</td>\n",
       "      <td>Los Angeles</td>\n",
       "    </tr>\n",
       "    <tr>\n",
       "      <th>2</th>\n",
       "      <td>3</td>\n",
       "      <td>Shirt</td>\n",
       "      <td>Apparel</td>\n",
       "      <td>1</td>\n",
       "      <td>30</td>\n",
       "      <td>New York</td>\n",
       "    </tr>\n",
       "    <tr>\n",
       "      <th>3</th>\n",
       "      <td>4</td>\n",
       "      <td>Shirt</td>\n",
       "      <td>Apparel</td>\n",
       "      <td>5</td>\n",
       "      <td>30</td>\n",
       "      <td>New York</td>\n",
       "    </tr>\n",
       "    <tr>\n",
       "      <th>4</th>\n",
       "      <td>5</td>\n",
       "      <td>Shirt</td>\n",
       "      <td>Apparel</td>\n",
       "      <td>2</td>\n",
       "      <td>30</td>\n",
       "      <td>Los Angeles</td>\n",
       "    </tr>\n",
       "    <tr>\n",
       "      <th>5</th>\n",
       "      <td>6</td>\n",
       "      <td>Shoes</td>\n",
       "      <td>Footwear</td>\n",
       "      <td>4</td>\n",
       "      <td>50</td>\n",
       "      <td>New York</td>\n",
       "    </tr>\n",
       "  </tbody>\n",
       "</table>\n",
       "</div>"
      ],
      "text/plain": [
       "   OrderID Product  Category  Quantity  Price         City\n",
       "0        1   Shoes  Footwear         2     50     New York\n",
       "1        2   Shoes  Footwear         3     50  Los Angeles\n",
       "2        3   Shirt   Apparel         1     30     New York\n",
       "3        4   Shirt   Apparel         5     30     New York\n",
       "4        5   Shirt   Apparel         2     30  Los Angeles\n",
       "5        6   Shoes  Footwear         4     50     New York"
      ]
     },
     "execution_count": 24,
     "metadata": {},
     "output_type": "execute_result"
    }
   ],
   "source": [
    "df=pd.DataFrame(data)\n",
    "df"
   ]
  },
  {
   "cell_type": "code",
   "execution_count": 25,
   "id": "7a1e8436-0f16-4555-aecc-7aa381deec3c",
   "metadata": {},
   "outputs": [],
   "source": [
    "# Adding total revenue column"
   ]
  },
  {
   "cell_type": "code",
   "execution_count": 28,
   "id": "b35850d2-ac93-4810-901e-0beec4b0dcc4",
   "metadata": {},
   "outputs": [],
   "source": [
    "df['TotalRevenue'] = df['Quantity'] * df['Price']"
   ]
  },
  {
   "cell_type": "code",
   "execution_count": 30,
   "id": "034e610e-eb73-4584-b60a-092f3de63d8d",
   "metadata": {},
   "outputs": [],
   "source": [
    "pivot_table=df.pivot_table(index='City', columns='Product', values='TotalRevenue', aggfunc={'TotalRevenue':['sum','mean']})"
   ]
  },
  {
   "cell_type": "code",
   "execution_count": 31,
   "id": "324e25b2-b8cd-4206-bba9-c390662778b8",
   "metadata": {},
   "outputs": [
    {
     "data": {
      "text/html": [
       "<div>\n",
       "<style scoped>\n",
       "    .dataframe tbody tr th:only-of-type {\n",
       "        vertical-align: middle;\n",
       "    }\n",
       "\n",
       "    .dataframe tbody tr th {\n",
       "        vertical-align: top;\n",
       "    }\n",
       "\n",
       "    .dataframe thead tr th {\n",
       "        text-align: left;\n",
       "    }\n",
       "\n",
       "    .dataframe thead tr:last-of-type th {\n",
       "        text-align: right;\n",
       "    }\n",
       "</style>\n",
       "<table border=\"1\" class=\"dataframe\">\n",
       "  <thead>\n",
       "    <tr>\n",
       "      <th></th>\n",
       "      <th colspan=\"2\" halign=\"left\">mean</th>\n",
       "      <th colspan=\"2\" halign=\"left\">sum</th>\n",
       "    </tr>\n",
       "    <tr>\n",
       "      <th>Product</th>\n",
       "      <th>Shirt</th>\n",
       "      <th>Shoes</th>\n",
       "      <th>Shirt</th>\n",
       "      <th>Shoes</th>\n",
       "    </tr>\n",
       "    <tr>\n",
       "      <th>City</th>\n",
       "      <th></th>\n",
       "      <th></th>\n",
       "      <th></th>\n",
       "      <th></th>\n",
       "    </tr>\n",
       "  </thead>\n",
       "  <tbody>\n",
       "    <tr>\n",
       "      <th>Los Angeles</th>\n",
       "      <td>60.0</td>\n",
       "      <td>150.0</td>\n",
       "      <td>60</td>\n",
       "      <td>150</td>\n",
       "    </tr>\n",
       "    <tr>\n",
       "      <th>New York</th>\n",
       "      <td>90.0</td>\n",
       "      <td>150.0</td>\n",
       "      <td>180</td>\n",
       "      <td>300</td>\n",
       "    </tr>\n",
       "  </tbody>\n",
       "</table>\n",
       "</div>"
      ],
      "text/plain": [
       "             mean          sum      \n",
       "Product     Shirt  Shoes Shirt Shoes\n",
       "City                                \n",
       "Los Angeles  60.0  150.0    60   150\n",
       "New York     90.0  150.0   180   300"
      ]
     },
     "execution_count": 31,
     "metadata": {},
     "output_type": "execute_result"
    }
   ],
   "source": [
    "pivot_table"
   ]
  },
  {
   "cell_type": "code",
   "execution_count": 32,
   "id": "baadece6-3cba-4f8b-a0fd-ebb543d74feb",
   "metadata": {},
   "outputs": [],
   "source": [
    "# Margins in Pivot Tables\n"
   ]
  },
  {
   "cell_type": "code",
   "execution_count": 35,
   "id": "d4e05bc6-8991-4f49-9915-c786911aa6e2",
   "metadata": {},
   "outputs": [],
   "source": [
    "pivot_tables_with_totals=df.pivot_table(index='City', columns='Product', values='TotalRevenue', aggfunc='sum', margins=True)"
   ]
  },
  {
   "cell_type": "code",
   "execution_count": 37,
   "id": "9a38f5ea-feba-4f5e-9d68-f4da76374348",
   "metadata": {},
   "outputs": [
    {
     "data": {
      "text/html": [
       "<div>\n",
       "<style scoped>\n",
       "    .dataframe tbody tr th:only-of-type {\n",
       "        vertical-align: middle;\n",
       "    }\n",
       "\n",
       "    .dataframe tbody tr th {\n",
       "        vertical-align: top;\n",
       "    }\n",
       "\n",
       "    .dataframe thead th {\n",
       "        text-align: right;\n",
       "    }\n",
       "</style>\n",
       "<table border=\"1\" class=\"dataframe\">\n",
       "  <thead>\n",
       "    <tr style=\"text-align: right;\">\n",
       "      <th>Product</th>\n",
       "      <th>Shirt</th>\n",
       "      <th>Shoes</th>\n",
       "      <th>All</th>\n",
       "    </tr>\n",
       "    <tr>\n",
       "      <th>City</th>\n",
       "      <th></th>\n",
       "      <th></th>\n",
       "      <th></th>\n",
       "    </tr>\n",
       "  </thead>\n",
       "  <tbody>\n",
       "    <tr>\n",
       "      <th>Los Angeles</th>\n",
       "      <td>60</td>\n",
       "      <td>150</td>\n",
       "      <td>210</td>\n",
       "    </tr>\n",
       "    <tr>\n",
       "      <th>New York</th>\n",
       "      <td>180</td>\n",
       "      <td>300</td>\n",
       "      <td>480</td>\n",
       "    </tr>\n",
       "    <tr>\n",
       "      <th>All</th>\n",
       "      <td>240</td>\n",
       "      <td>450</td>\n",
       "      <td>690</td>\n",
       "    </tr>\n",
       "  </tbody>\n",
       "</table>\n",
       "</div>"
      ],
      "text/plain": [
       "Product      Shirt  Shoes  All\n",
       "City                          \n",
       "Los Angeles     60    150  210\n",
       "New York       180    300  480\n",
       "All            240    450  690"
      ]
     },
     "execution_count": 37,
     "metadata": {},
     "output_type": "execute_result"
    }
   ],
   "source": [
    "pivot_tables_with_totals"
   ]
  },
  {
   "cell_type": "markdown",
   "id": "dab299d0-b91d-4e1a-8a21-87f08d693fe4",
   "metadata": {},
   "source": [
    "## Handling Missing Data in GroupBy, pivot and reshaping"
   ]
  },
  {
   "cell_type": "code",
   "execution_count": 38,
   "id": "f5251e80-2fe0-468e-8775-01069be8c7c2",
   "metadata": {},
   "outputs": [],
   "source": [
    "data_with_nan = {\n",
    "    'OrderID': [1, 2, 3, 4, 5, 6],\n",
    "    'Product': ['Shoes', 'Shoes', 'Shirt', 'Shirt', 'Shirt', 'Shoes'],\n",
    "    'Category': ['Footwear', 'Footwear', 'Apparel', 'Apparel', 'Apparel', 'Footwear'],\n",
    "    'Quantity': [2, 3, None, 5, 2, None],\n",
    "    'Price': [50, 50, 30, 30, None, 50],\n",
    "    'City': ['New York', 'Los Angeles', 'New York', 'New York', 'Los Angeles', 'New York']\n",
    "}"
   ]
  },
  {
   "cell_type": "code",
   "execution_count": 39,
   "id": "40ebebb1-d959-430e-bcca-bc48c2feeb34",
   "metadata": {},
   "outputs": [],
   "source": [
    "df_nan=pd.DataFrame(data_with_nan)"
   ]
  },
  {
   "cell_type": "code",
   "execution_count": 40,
   "id": "2dcc5f1b-ef7b-48c8-8405-fee016eb7251",
   "metadata": {},
   "outputs": [
    {
     "data": {
      "text/html": [
       "<div>\n",
       "<style scoped>\n",
       "    .dataframe tbody tr th:only-of-type {\n",
       "        vertical-align: middle;\n",
       "    }\n",
       "\n",
       "    .dataframe tbody tr th {\n",
       "        vertical-align: top;\n",
       "    }\n",
       "\n",
       "    .dataframe thead th {\n",
       "        text-align: right;\n",
       "    }\n",
       "</style>\n",
       "<table border=\"1\" class=\"dataframe\">\n",
       "  <thead>\n",
       "    <tr style=\"text-align: right;\">\n",
       "      <th></th>\n",
       "      <th>OrderID</th>\n",
       "      <th>Product</th>\n",
       "      <th>Category</th>\n",
       "      <th>Quantity</th>\n",
       "      <th>Price</th>\n",
       "      <th>City</th>\n",
       "    </tr>\n",
       "  </thead>\n",
       "  <tbody>\n",
       "    <tr>\n",
       "      <th>0</th>\n",
       "      <td>1</td>\n",
       "      <td>Shoes</td>\n",
       "      <td>Footwear</td>\n",
       "      <td>2.0</td>\n",
       "      <td>50.0</td>\n",
       "      <td>New York</td>\n",
       "    </tr>\n",
       "    <tr>\n",
       "      <th>1</th>\n",
       "      <td>2</td>\n",
       "      <td>Shoes</td>\n",
       "      <td>Footwear</td>\n",
       "      <td>3.0</td>\n",
       "      <td>50.0</td>\n",
       "      <td>Los Angeles</td>\n",
       "    </tr>\n",
       "    <tr>\n",
       "      <th>2</th>\n",
       "      <td>3</td>\n",
       "      <td>Shirt</td>\n",
       "      <td>Apparel</td>\n",
       "      <td>NaN</td>\n",
       "      <td>30.0</td>\n",
       "      <td>New York</td>\n",
       "    </tr>\n",
       "    <tr>\n",
       "      <th>3</th>\n",
       "      <td>4</td>\n",
       "      <td>Shirt</td>\n",
       "      <td>Apparel</td>\n",
       "      <td>5.0</td>\n",
       "      <td>30.0</td>\n",
       "      <td>New York</td>\n",
       "    </tr>\n",
       "    <tr>\n",
       "      <th>4</th>\n",
       "      <td>5</td>\n",
       "      <td>Shirt</td>\n",
       "      <td>Apparel</td>\n",
       "      <td>2.0</td>\n",
       "      <td>NaN</td>\n",
       "      <td>Los Angeles</td>\n",
       "    </tr>\n",
       "    <tr>\n",
       "      <th>5</th>\n",
       "      <td>6</td>\n",
       "      <td>Shoes</td>\n",
       "      <td>Footwear</td>\n",
       "      <td>NaN</td>\n",
       "      <td>50.0</td>\n",
       "      <td>New York</td>\n",
       "    </tr>\n",
       "  </tbody>\n",
       "</table>\n",
       "</div>"
      ],
      "text/plain": [
       "   OrderID Product  Category  Quantity  Price         City\n",
       "0        1   Shoes  Footwear       2.0   50.0     New York\n",
       "1        2   Shoes  Footwear       3.0   50.0  Los Angeles\n",
       "2        3   Shirt   Apparel       NaN   30.0     New York\n",
       "3        4   Shirt   Apparel       5.0   30.0     New York\n",
       "4        5   Shirt   Apparel       2.0    NaN  Los Angeles\n",
       "5        6   Shoes  Footwear       NaN   50.0     New York"
      ]
     },
     "execution_count": 40,
     "metadata": {},
     "output_type": "execute_result"
    }
   ],
   "source": [
    "df_nan"
   ]
  },
  {
   "cell_type": "code",
   "execution_count": 41,
   "id": "ac2ccb4f-f764-4c5d-9161-c45762a3a6c3",
   "metadata": {},
   "outputs": [],
   "source": [
    "# Handling missing values in groupby"
   ]
  },
  {
   "cell_type": "code",
   "execution_count": 43,
   "id": "9419ccc1-1e71-4ce0-94e9-7b87b10bd7aa",
   "metadata": {},
   "outputs": [],
   "source": [
    "grouped_with_nan=df_nan.groupby('City')['Price'].mean()"
   ]
  },
  {
   "cell_type": "code",
   "execution_count": 44,
   "id": "4aa2ebdb-61d8-4643-a750-b4202ff8d6fa",
   "metadata": {},
   "outputs": [
    {
     "data": {
      "text/plain": [
       "City\n",
       "Los Angeles    50.0\n",
       "New York       40.0\n",
       "Name: Price, dtype: float64"
      ]
     },
     "execution_count": 44,
     "metadata": {},
     "output_type": "execute_result"
    }
   ],
   "source": [
    "grouped_with_nan"
   ]
  },
  {
   "cell_type": "code",
   "execution_count": null,
   "id": "f1208358-a0f7-403f-ae0e-4902610628e6",
   "metadata": {},
   "outputs": [],
   "source": []
  }
 ],
 "metadata": {
  "kernelspec": {
   "display_name": "Python 3 (ipykernel)",
   "language": "python",
   "name": "python3"
  },
  "language_info": {
   "codemirror_mode": {
    "name": "ipython",
    "version": 3
   },
   "file_extension": ".py",
   "mimetype": "text/x-python",
   "name": "python",
   "nbconvert_exporter": "python",
   "pygments_lexer": "ipython3",
   "version": "3.12.6"
  }
 },
 "nbformat": 4,
 "nbformat_minor": 5
}
