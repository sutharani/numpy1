{
 "cells": [
  {
   "cell_type": "markdown",
   "id": "93b467e6-b866-45b0-a848-6b28cd4fc55f",
   "metadata": {},
   "source": [
    "## Scipy library"
   ]
  },
  {
   "cell_type": "code",
   "execution_count": 2,
   "id": "bf811dc1-509f-4da4-aad6-f9f8eb862aa4",
   "metadata": {},
   "outputs": [],
   "source": [
    "import numpy as np\n",
    "import matplotlib.pyplot as plt\n",
    "from scipy import stats\n",
    "\n",
    "# optimization\n",
    "from scipy.optimize import minimize\n",
    "# interpolate\n",
    "from scipy.interpolate import interp1d\n",
    "# integrating\n",
    "from scipy.integrate import quad"
   ]
  },
  {
   "cell_type": "code",
   "execution_count": 3,
   "id": "55902928-ec17-4ccd-a9e0-20ccb8281fd8",
   "metadata": {},
   "outputs": [],
   "source": [
    "# Basic functions"
   ]
  },
  {
   "cell_type": "markdown",
   "id": "a03b6011-d5f4-44ff-a668-d5540319b9a2",
   "metadata": {},
   "source": [
    "## Statistics function "
   ]
  },
  {
   "cell_type": "code",
   "execution_count": 4,
   "id": "9d81b23e-fbb2-46c3-9870-0d46a616657c",
   "metadata": {},
   "outputs": [],
   "source": [
    "data=np.array([1,2,3,4,5,6,7,8,9,10])"
   ]
  },
  {
   "cell_type": "code",
   "execution_count": 5,
   "id": "4d1f4bd5-0e60-42c1-af9f-7fd176005ee6",
   "metadata": {},
   "outputs": [],
   "source": [
    "mean=np.mean(data)\n",
    "std_dev=np.std(data)"
   ]
  },
  {
   "cell_type": "code",
   "execution_count": 6,
   "id": "fbe4b532-33ba-4809-88c4-975e7a375f4a",
   "metadata": {},
   "outputs": [
    {
     "data": {
      "text/plain": [
       "np.float64(5.5)"
      ]
     },
     "execution_count": 6,
     "metadata": {},
     "output_type": "execute_result"
    }
   ],
   "source": [
    "mean"
   ]
  },
  {
   "cell_type": "code",
   "execution_count": 7,
   "id": "79d4ec03-f081-49b8-b1ce-5576689835d3",
   "metadata": {},
   "outputs": [
    {
     "data": {
      "text/plain": [
       "np.float64(2.8722813232690143)"
      ]
     },
     "execution_count": 7,
     "metadata": {},
     "output_type": "execute_result"
    }
   ],
   "source": [
    "std_dev"
   ]
  },
  {
   "cell_type": "markdown",
   "id": "de670eb7-4021-4fab-9b58-c9fd8c6655a4",
   "metadata": {},
   "source": [
    "## Probability Distribution"
   ]
  },
  {
   "cell_type": "code",
   "execution_count": 8,
   "id": "14778dba-7aa2-4607-b733-896d84c8f0bf",
   "metadata": {},
   "outputs": [],
   "source": [
    "# Normal distribution"
   ]
  },
  {
   "cell_type": "code",
   "execution_count": 9,
   "id": "056410d1-ee29-471a-aa49-65454efb5095",
   "metadata": {},
   "outputs": [],
   "source": [
    "mu,sigma=0,0.1"
   ]
  },
  {
   "cell_type": "code",
   "execution_count": 10,
   "id": "a2625a90-5906-4349-bc69-c69871dd0015",
   "metadata": {},
   "outputs": [],
   "source": [
    "s=np.random.normal(mu,sigma,1000)"
   ]
  },
  {
   "cell_type": "code",
   "execution_count": 11,
   "id": "e259e88c-7d0b-4f3e-ab85-e36a148b2bed",
   "metadata": {},
   "outputs": [
    {
     "data": {
      "text/plain": [
       "array([-4.29904110e-02, -2.84003633e-02, -1.43402058e-02, -7.41065423e-02,\n",
       "        5.70075345e-03, -6.43503753e-03,  8.36871492e-02, -8.27062714e-03,\n",
       "       -2.73271951e-02,  7.45568305e-02,  5.29942449e-02,  2.65275772e-02,\n",
       "        6.01974004e-02,  2.75108023e-02, -1.06515243e-02,  2.63413446e-02,\n",
       "        3.08829398e-01, -5.20704093e-02, -1.11771662e-01,  1.54190172e-02,\n",
       "       -1.37810462e-01, -7.72988525e-03, -5.40813594e-02, -1.08696233e-02,\n",
       "       -1.39158377e-01,  5.80408970e-02,  2.27779517e-02,  1.02253283e-01,\n",
       "        6.73264306e-04,  2.94218914e-02, -6.34466699e-02,  2.58429189e-02,\n",
       "       -1.25376818e-01, -5.52301263e-03,  2.11514297e-01,  6.99344460e-04,\n",
       "        3.89636516e-02, -5.43318992e-02,  1.28104911e-02,  2.86818880e-03,\n",
       "        1.10655017e-01, -1.61710421e-01, -1.36770085e-01, -1.83197068e-02,\n",
       "       -2.03041789e-01, -1.05253516e-01, -6.92399372e-03, -5.20316050e-02,\n",
       "       -1.26690324e-01,  3.50529525e-03, -2.41132625e-02,  5.22686661e-02,\n",
       "        1.13312432e-01,  2.44287830e-02, -1.85242846e-02,  3.17130073e-03,\n",
       "       -6.65539537e-02,  1.05716710e-01, -1.68796608e-01,  1.10572655e-01,\n",
       "       -1.09941957e-01, -3.30793039e-02, -9.15599755e-03, -9.23420670e-02,\n",
       "       -9.94522539e-02, -1.10068057e-01, -1.75734879e-01,  2.94873144e-02,\n",
       "       -2.09463436e-02,  9.71971302e-02, -6.03347985e-03, -5.07466190e-02,\n",
       "        4.28698620e-03, -2.08269092e-01, -6.31253270e-02, -2.24239139e-03,\n",
       "        2.22925542e-01, -1.93028523e-02,  9.81261719e-02,  6.60402160e-02,\n",
       "        4.62639759e-02, -1.81209964e-03, -1.18651939e-01, -6.36075233e-02,\n",
       "       -9.96191511e-03, -1.34383660e-01,  1.31544031e-01, -7.22780023e-02,\n",
       "        8.44075517e-03,  2.12808224e-01,  6.33058305e-02, -5.38405738e-02,\n",
       "        5.75851940e-02, -2.99547898e-02,  1.21414978e-02, -1.56139198e-02,\n",
       "       -7.22439973e-02, -6.18966704e-02,  9.27681594e-02, -7.76019704e-02,\n",
       "       -6.23652610e-02, -3.68007542e-02,  1.18374161e-01, -1.57221129e-02,\n",
       "        2.25310027e-01, -6.37514492e-02,  7.38403526e-02,  1.41870554e-02,\n",
       "        6.27264718e-02, -6.88099905e-03, -4.94431692e-02, -8.53632916e-02,\n",
       "       -1.92995364e-01,  9.92235559e-02, -2.72967487e-02,  1.14442118e-02,\n",
       "        9.79571041e-02, -1.89727493e-02, -2.02885087e-01, -1.83404693e-02,\n",
       "        9.42781998e-02,  2.05572516e-01,  5.92391741e-02,  1.18049595e-01,\n",
       "        8.94265937e-02,  1.10476873e-01, -6.96272493e-02,  1.17929363e-01,\n",
       "       -8.43619155e-03, -4.14715833e-02,  1.67614125e-01,  4.34177948e-02,\n",
       "        2.45988617e-02, -7.76624364e-02, -4.57849329e-02, -1.43874488e-01,\n",
       "       -2.86368652e-01, -5.13351026e-03, -5.03014036e-02,  9.76720304e-02,\n",
       "        1.43343224e-02, -1.01968059e-01,  1.13422423e-01,  1.01448667e-01,\n",
       "        7.30532889e-03,  1.53552371e-01,  1.15351016e-01,  1.17090279e-01,\n",
       "        5.34091125e-02, -3.35446098e-02,  1.32547515e-03, -1.33361907e-01,\n",
       "       -2.11443956e-01, -2.15548996e-02,  1.94438145e-01,  7.52693111e-02,\n",
       "       -8.24584935e-02,  8.44175372e-02,  2.91038965e-01,  2.92359733e-02,\n",
       "       -1.43077640e-01,  1.73607285e-01, -5.35597631e-02, -1.64245660e-02,\n",
       "       -4.45344501e-02, -1.54272886e-01, -4.36418117e-03, -1.47002789e-01,\n",
       "        1.52547353e-02,  1.53911386e-01, -5.65121724e-02,  3.82396636e-02,\n",
       "       -1.04072527e-02,  4.38727834e-02, -1.15145443e-01, -4.37306733e-02,\n",
       "        1.59377913e-01, -1.21952126e-02,  5.04987078e-02, -4.34129545e-02,\n",
       "        1.54093408e-01,  1.14433344e-01, -1.93182566e-01,  4.01852277e-02,\n",
       "        2.79496063e-01,  7.75157909e-02,  1.65074240e-02, -8.40638806e-02,\n",
       "        1.35256665e-01,  1.13211130e-01, -1.74218772e-01,  3.27356620e-02,\n",
       "       -2.05109632e-01,  1.54913553e-01,  1.28407354e-01, -1.39891393e-01,\n",
       "       -1.40368063e-01, -1.98665547e-02,  6.84864081e-02, -4.32035706e-02,\n",
       "        8.81501429e-02, -2.93128234e-02,  3.82148296e-02, -7.28846730e-02,\n",
       "       -8.85057182e-03, -1.51021144e-01, -2.33664439e-02,  2.21437930e-02,\n",
       "        1.60856721e-01, -1.55155224e-01,  4.52441373e-02, -8.99000227e-03,\n",
       "        5.36414113e-02, -6.82624189e-02,  8.44637539e-02,  3.56775874e-03,\n",
       "        6.38365776e-02, -1.26920376e-02, -2.23715464e-01, -5.34861649e-02,\n",
       "        2.27758176e-02,  1.56540343e-01,  2.76655230e-02,  9.32166726e-02,\n",
       "        1.83616834e-01,  1.30529373e-01,  1.82920228e-01,  8.61685015e-02,\n",
       "       -1.31343716e-01,  7.10298952e-02, -1.80731350e-01, -3.14223443e-02,\n",
       "       -6.32815192e-02,  3.29991889e-02,  2.39413920e-01, -7.99155620e-02,\n",
       "       -2.08113270e-02, -6.66465460e-02, -4.72829056e-02,  4.11992498e-03,\n",
       "        3.79675704e-02, -2.45321691e-02,  9.49810827e-02,  1.48629555e-01,\n",
       "        2.05600043e-02, -5.12976641e-03,  2.96811341e-02,  6.66076105e-02,\n",
       "       -1.77306678e-01,  4.04477948e-02, -8.36758820e-02, -3.29071739e-02,\n",
       "        1.28237260e-01,  1.50035651e-01,  3.74561401e-02,  9.13405139e-03,\n",
       "        1.20736975e-01,  1.04767076e-01,  1.79392705e-01, -1.57597538e-03,\n",
       "       -5.53989131e-02, -3.10994680e-02,  3.99540564e-02,  6.40450402e-02,\n",
       "       -2.74609272e-02,  4.22057417e-02, -7.18150725e-02, -1.48085718e-01,\n",
       "        7.26586690e-02, -1.20354389e-01,  4.25302652e-03, -2.27289773e-02,\n",
       "        2.13088029e-02, -7.58243274e-02,  3.05571678e-02, -1.35789593e-01,\n",
       "       -1.50861961e-01, -3.15787772e-02, -1.21011727e-01,  7.07016152e-02,\n",
       "        2.86234792e-02,  5.03410322e-02,  1.06056533e-01,  1.25708856e-01,\n",
       "        2.61148896e-03, -1.26469403e-01, -1.89245353e-01,  1.60988648e-01,\n",
       "       -5.59550912e-02,  6.27791313e-02, -3.23220584e-02,  2.46898206e-01,\n",
       "       -6.10928498e-02,  7.58936805e-02,  5.89045985e-02,  1.61172415e-01,\n",
       "       -7.77549450e-02, -1.43240319e-02, -5.36906663e-02,  1.73423593e-02,\n",
       "        1.82680145e-02,  1.66886305e-01, -8.79203814e-02,  1.52553203e-01,\n",
       "        5.82510866e-02,  6.52348818e-02,  1.02008854e-02, -4.19680044e-02,\n",
       "        1.47861469e-01, -3.74104988e-02, -1.20600004e-01, -8.84388763e-02,\n",
       "       -8.19826455e-02, -7.59794192e-02,  1.81157889e-01,  1.20679916e-01,\n",
       "        6.38551183e-02, -4.08827343e-02, -1.10225417e-01,  7.42731011e-02,\n",
       "        2.36645155e-02,  2.55356606e-03, -1.50373047e-01,  4.65928538e-02,\n",
       "        1.86696587e-01, -4.19724138e-02, -5.38253862e-02, -1.53479290e-02,\n",
       "       -1.05033036e-01,  1.85782246e-02,  1.75847941e-02,  8.35747346e-02,\n",
       "       -7.31249079e-02, -1.38037199e-01,  4.68005694e-02, -5.63720182e-02,\n",
       "        4.10792084e-02,  1.57479649e-01, -4.30451448e-02,  1.95525313e-01,\n",
       "        1.10709417e-01, -1.22069823e-01, -8.51843417e-03, -3.07963880e-02,\n",
       "        1.41215264e-01, -2.34706466e-02,  1.37808890e-01,  1.26355201e-01,\n",
       "       -1.70026684e-01,  8.27570799e-02, -5.19174782e-02,  4.55514664e-02,\n",
       "        1.10156759e-01, -1.46489573e-01, -7.48126426e-02,  1.30819605e-01,\n",
       "       -1.93955091e-01,  2.35228319e-02,  4.69665661e-02, -1.16557733e-01,\n",
       "       -2.52753829e-02, -8.89046082e-02, -3.06751058e-02,  7.34465234e-02,\n",
       "        4.27078480e-02,  3.78720625e-03,  6.49717768e-02, -5.93947007e-02,\n",
       "        5.01182209e-02, -1.39220907e-01,  4.86200013e-02,  8.98887512e-02,\n",
       "       -1.24420784e-01, -8.03407675e-02,  9.12912132e-02, -1.36260794e-03,\n",
       "       -1.64718138e-03, -3.57032793e-02,  8.04973879e-02, -9.68468286e-02,\n",
       "       -5.26512000e-02,  1.55441115e-01,  7.22219993e-02, -8.57296881e-02,\n",
       "        1.84961573e-05,  8.21986156e-02,  1.54084320e-01, -1.96214089e-02,\n",
       "        1.34804032e-01,  1.14166481e-01,  8.29038672e-02,  1.11907842e-01,\n",
       "        1.58545409e-01,  7.32893154e-02,  1.58920341e-01, -3.94993391e-03,\n",
       "        1.24541717e-01, -4.74180293e-02,  2.56064404e-01, -9.76987864e-02,\n",
       "        2.59042408e-01, -5.02047584e-02, -3.58549223e-02, -9.59098089e-02,\n",
       "       -1.58825477e-01, -2.83975617e-02,  1.35438560e-01,  1.27946094e-01,\n",
       "        1.37206428e-02,  1.10071906e-01,  5.51345416e-02,  2.94938310e-02,\n",
       "       -9.82040560e-02, -7.28272496e-02, -8.18747093e-02,  1.89654103e-01,\n",
       "        7.79223435e-02, -5.69884171e-02, -7.23075224e-02,  6.29532745e-02,\n",
       "        9.71072738e-02, -4.63813596e-02,  6.16048753e-02, -1.61498639e-02,\n",
       "        1.66357648e-02, -6.47747891e-02,  1.33574583e-01, -1.07217166e-01,\n",
       "        4.87384975e-02, -9.64931818e-02, -1.72624787e-01,  6.27494725e-02,\n",
       "        1.59275129e-03, -8.00241677e-02, -3.34189364e-03, -6.23441369e-02,\n",
       "        8.01648503e-02,  1.74394324e-01,  8.08029973e-02,  3.42255617e-02,\n",
       "        9.26364754e-02, -3.11687036e-02,  8.40826968e-02, -8.05267579e-03,\n",
       "       -2.22537559e-01, -6.58883860e-02,  2.49414176e-02, -4.18909589e-03,\n",
       "        5.35696503e-02,  1.52100445e-02, -4.85123250e-03,  4.66442931e-03,\n",
       "       -3.85547809e-02, -1.42510320e-01, -2.09172998e-02, -3.86430036e-02,\n",
       "        8.87642605e-02, -1.95279314e-03,  1.50715265e-01, -1.84516583e-02,\n",
       "       -4.42761538e-03,  1.61760434e-01,  1.28030017e-01,  2.32568334e-01,\n",
       "       -6.26978605e-03,  1.22339442e-01,  1.66807711e-02, -3.00034055e-02,\n",
       "       -2.64986185e-02,  9.79729608e-02,  1.82318936e-01, -1.44829504e-02,\n",
       "       -7.95329241e-02,  1.31486465e-01,  3.92014549e-02, -1.71991226e-02,\n",
       "        9.42831686e-02, -2.33150286e-02, -1.50945833e-03, -2.18729313e-01,\n",
       "        1.13812458e-02, -4.91176950e-02, -1.14483189e-02, -5.11634270e-02,\n",
       "       -1.54821146e-01, -2.00720604e-01, -8.04774921e-02, -5.84436771e-02,\n",
       "        2.45918588e-02, -2.71787645e-05,  1.35329441e-01,  4.13469104e-02,\n",
       "        6.75323630e-02, -1.24349977e-01,  3.73584803e-02, -3.40155420e-02,\n",
       "        6.26756205e-02,  1.74189038e-01, -5.49953666e-02, -6.34951779e-02,\n",
       "       -2.11696272e-02,  1.44392309e-01,  3.12291272e-02, -1.64527526e-01,\n",
       "       -1.06670772e-01, -4.20477927e-02,  1.04195531e-01,  1.04467719e-01,\n",
       "       -1.56606907e-02,  1.45747994e-01, -1.24008587e-01,  6.52959392e-02,\n",
       "        1.62530502e-02, -6.11337928e-02,  3.05830764e-03, -1.98874295e-01,\n",
       "       -1.22263225e-01, -4.71162411e-02,  1.79201281e-01,  7.98224507e-02,\n",
       "       -2.29885398e-02, -8.57028584e-02, -5.70424452e-02, -6.66706621e-02,\n",
       "       -2.49506992e-01,  1.32168000e-01,  3.15606239e-02, -7.33441705e-02,\n",
       "       -2.72417729e-02, -6.36500538e-02, -4.04297613e-02,  1.11686367e-01,\n",
       "        4.77579000e-02, -3.97054636e-04, -1.41855494e-01,  1.88384844e-02,\n",
       "        1.32738410e-01,  2.78364426e-02, -5.84625763e-02,  1.24784921e-02,\n",
       "        5.97133240e-02,  9.43330756e-03, -1.14721691e-01,  2.86425404e-02,\n",
       "       -9.06101074e-03, -3.03518723e-01,  9.13390624e-02,  2.65806750e-02,\n",
       "        4.31048790e-02,  1.21368682e-01,  8.14660121e-02,  5.84351645e-02,\n",
       "       -5.31919357e-02,  1.40225021e-01,  6.48983815e-02,  6.56047331e-02,\n",
       "       -1.13097976e-01,  1.16637615e-01,  8.71468473e-02,  2.67751916e-02,\n",
       "       -1.50833530e-02,  5.53874932e-02, -6.35561910e-02, -2.05422076e-02,\n",
       "        7.54520638e-02, -6.55692877e-02,  8.41903967e-02, -6.95269130e-03,\n",
       "       -1.66424645e-01, -3.51397171e-02, -2.30972833e-01, -1.06434121e-01,\n",
       "       -5.54389566e-02, -8.25780116e-02, -1.65748414e-02,  1.42401121e-01,\n",
       "       -5.85250931e-02,  1.86575996e-01,  7.62409386e-02, -9.35391771e-03,\n",
       "        8.80361445e-02,  2.75342678e-02,  4.33113517e-02, -2.43166788e-01,\n",
       "       -3.53031276e-02, -1.27689285e-02, -2.75967136e-01,  1.70612053e-01,\n",
       "        5.10204507e-02,  1.56904283e-02,  9.15407029e-02, -9.37072071e-02,\n",
       "       -2.45149164e-01,  1.39826565e-01,  4.29833455e-03, -1.82186121e-01,\n",
       "       -2.08672350e-02, -4.27644454e-02, -3.14381769e-02, -4.06361778e-02,\n",
       "       -2.99367912e-01, -1.70064064e-01, -1.17378845e-01,  8.66827166e-03,\n",
       "        1.85919193e-02,  1.87605175e-02,  1.21251438e-01,  1.24736943e-02,\n",
       "       -4.06448363e-03,  1.03688894e-01,  1.03087565e-01, -7.73922926e-02,\n",
       "       -5.99538915e-03, -1.11562580e-01,  4.81973333e-03, -8.00967661e-02,\n",
       "       -5.48415415e-03, -9.40442436e-03,  2.67282667e-01, -3.18839461e-02,\n",
       "        1.16282710e-01,  2.41335979e-02,  7.63775640e-02,  4.67275705e-02,\n",
       "        4.78117920e-02, -4.28125504e-02,  5.12001701e-02,  1.19149442e-01,\n",
       "       -1.13524419e-01, -1.64704683e-01,  3.25934304e-02, -8.32941644e-02,\n",
       "        1.23260229e-01,  1.59046485e-01, -1.77639147e-01,  6.88315102e-02,\n",
       "        8.34669470e-02,  7.39754448e-02, -3.71792479e-02, -1.02210820e-01,\n",
       "       -1.89777783e-01,  4.28811739e-02, -2.28288176e-02,  7.70083906e-02,\n",
       "       -1.16536758e-01, -1.42155611e-01, -7.59320548e-02,  1.62919562e-01,\n",
       "        2.69806617e-03,  1.06584150e-02, -1.26171957e-02,  9.89896695e-02,\n",
       "       -1.48150869e-01,  1.50785587e-02,  1.11332251e-02,  1.37959896e-01,\n",
       "        9.24449482e-02,  4.21930179e-02,  3.73198507e-02,  2.33456460e-01,\n",
       "       -2.51973505e-02, -1.98745602e-03,  1.06499245e-01,  1.36661562e-01,\n",
       "        3.41815701e-02, -4.80880763e-02, -1.91780351e-03,  2.01461880e-02,\n",
       "       -8.17089870e-02, -2.64763913e-02,  1.54755278e-01, -4.50454752e-02,\n",
       "       -1.23936857e-03, -1.58972342e-02, -6.88499071e-02, -1.15399877e-02,\n",
       "        6.27742888e-02, -5.32386010e-03, -1.31070238e-01, -1.11796909e-01,\n",
       "       -1.36313117e-01,  2.45805812e-01,  1.96701570e-01,  4.62409601e-02,\n",
       "       -1.17461823e-01,  6.48387602e-02, -8.41494305e-02, -5.20601646e-02,\n",
       "        3.10407556e-02, -8.27930812e-03,  3.16407390e-02, -1.96404149e-01,\n",
       "        1.12315446e-01, -2.87392601e-02,  1.42471990e-01, -4.87553297e-03,\n",
       "        1.27786016e-02, -6.53015057e-02, -4.64598168e-02,  1.37116540e-01,\n",
       "        1.90414482e-01, -7.23663514e-02,  2.45624200e-02, -3.33583071e-04,\n",
       "       -1.86907842e-01,  1.62436288e-01,  2.05905159e-02,  3.23956374e-03,\n",
       "        2.63597701e-01, -1.36635373e-02, -7.12675473e-02,  5.64400605e-02,\n",
       "        1.14453753e-01, -5.80904517e-02,  1.29800149e-01,  2.03225025e-01,\n",
       "       -9.22315260e-02, -2.13302890e-02, -4.84313233e-02, -2.32695940e-02,\n",
       "       -9.47379210e-02, -3.94463869e-02,  8.02116568e-02, -1.21802455e-02,\n",
       "       -7.78812168e-02,  7.47689939e-02, -3.39441668e-02, -1.00717442e-01,\n",
       "       -1.86668919e-01, -8.80877244e-02,  7.49377083e-02, -5.51428537e-02,\n",
       "       -1.12733889e-01,  2.16467132e-01, -1.49783165e-01,  1.50694198e-01,\n",
       "        8.31766484e-02, -1.53733896e-02, -1.24189331e-01, -5.39065882e-02,\n",
       "       -8.36381108e-02, -5.69575109e-02, -1.34666467e-01, -3.20216950e-03,\n",
       "       -1.04425547e-01, -1.00499362e-02, -4.42958166e-02,  1.38928395e-01,\n",
       "        2.30949984e-03, -5.02829095e-02,  4.45315821e-02,  1.80638753e-02,\n",
       "        6.91348397e-03, -7.82002484e-02,  9.47021581e-02,  4.35418068e-03,\n",
       "        1.00659694e-03,  3.21369099e-02, -8.63164753e-02, -1.36679464e-01,\n",
       "       -2.96473134e-02,  1.05090938e-01, -1.21966371e-01,  2.08356569e-01,\n",
       "       -8.46076097e-02,  4.72396803e-02, -7.41004952e-02,  1.02114327e-01,\n",
       "        8.95766601e-02, -2.47255703e-01, -2.03747843e-02, -5.46320621e-02,\n",
       "       -5.00589250e-02,  7.57511917e-02, -7.14441872e-02,  1.20378713e-01,\n",
       "       -5.14032799e-02, -1.04610572e-01,  1.24769839e-01,  3.55279888e-02,\n",
       "       -1.40153558e-01,  6.86308091e-02, -1.34606780e-01, -1.72086339e-01,\n",
       "        2.31825344e-03, -7.14859931e-02,  9.84581741e-03, -2.02538721e-02,\n",
       "       -2.97736359e-02,  5.39138083e-02, -1.30010789e-01,  1.17894700e-01,\n",
       "        1.89645447e-01,  8.03411632e-02, -9.31638845e-03, -6.64814543e-02,\n",
       "        4.65548639e-02,  8.39506531e-03,  1.78075307e-02,  5.03237668e-02,\n",
       "        6.63774892e-02, -8.09307948e-02,  2.25114678e-02,  5.16254023e-02,\n",
       "        5.27427208e-03, -1.18257418e-01,  2.83295492e-02, -4.44154779e-02,\n",
       "        2.88106174e-02,  6.99602044e-04, -1.39833221e-02,  1.81892818e-01,\n",
       "        3.77972388e-02, -1.60661011e-01, -4.43366740e-03, -4.69003146e-02,\n",
       "       -9.76482803e-02,  1.52428888e-01, -6.61230313e-02,  4.55049597e-02,\n",
       "        4.08964868e-02, -1.06405472e-01, -6.80824706e-02,  8.53845449e-02,\n",
       "       -5.27750686e-02,  1.69644766e-01,  2.88201150e-03,  4.89562562e-02,\n",
       "        2.31295149e-02,  1.08708061e-01,  1.30498903e-01, -5.39392545e-02,\n",
       "       -9.25942854e-02, -3.68949342e-01, -5.68844173e-02, -4.79304083e-02,\n",
       "       -4.84325157e-04, -1.87287781e-01,  9.68317255e-02, -7.72408924e-02,\n",
       "       -9.29004046e-02,  1.13278469e-01,  2.56367691e-01,  6.34829798e-02,\n",
       "       -1.12909979e-01, -7.48751268e-02,  9.48260947e-02,  7.45804280e-02,\n",
       "       -2.20757693e-01, -1.67010334e-01,  1.22132403e-01,  2.89182709e-02,\n",
       "        8.70662786e-02, -8.95468674e-02,  6.64991084e-02, -2.51408783e-01,\n",
       "       -1.41089997e-02,  1.18942754e-02, -9.23817482e-02, -1.66178042e-01,\n",
       "        7.39961980e-02, -1.15538941e-01,  1.52416922e-01,  1.28402317e-02,\n",
       "       -1.93027860e-02,  1.18513213e-01, -2.41812614e-01, -3.39725834e-02,\n",
       "        4.58099925e-03,  1.40698760e-01, -7.48219840e-02,  6.83137034e-02,\n",
       "       -5.81459574e-02,  5.04841719e-02,  4.23135853e-02, -5.15965804e-02,\n",
       "       -1.14119735e-01,  1.14630737e-02, -1.17426150e-01,  1.05934393e-01,\n",
       "        3.76304323e-02,  1.42017178e-01,  1.01579088e-01,  3.17865818e-01,\n",
       "        8.03820360e-02, -1.80790778e-03,  9.67138444e-02,  1.21686832e-02,\n",
       "        1.56020461e-01, -5.67235327e-02, -1.25702631e-01,  1.17214949e-01,\n",
       "       -3.20376798e-02, -1.15733418e-01, -3.67776172e-02, -1.53901059e-01,\n",
       "        4.43957071e-02, -4.54007112e-02,  5.65705814e-03,  3.71137747e-02,\n",
       "       -5.55745950e-02, -1.52556057e-02,  1.34938080e-04, -5.99062845e-02,\n",
       "       -3.73401733e-02,  8.72608841e-02, -4.08659486e-02, -1.48572545e-01,\n",
       "       -1.25168254e-01, -7.67013866e-02,  6.01863203e-02,  1.60378175e-01,\n",
       "       -1.82627460e-01,  1.39229743e-02,  9.00677373e-03,  9.94119035e-02,\n",
       "        1.32328620e-01,  1.21206999e-01,  3.25916388e-02, -8.85211034e-02,\n",
       "       -7.48687094e-02,  3.91056697e-02,  8.44372402e-02,  4.53741743e-02,\n",
       "        1.04029937e-01, -7.34955449e-02, -1.24708587e-01, -4.06046136e-02,\n",
       "        1.31107361e-01,  9.36183556e-02, -8.48237741e-02, -1.06297911e-01,\n",
       "       -8.45198701e-02,  2.12725849e-02,  1.50687985e-01, -6.13475621e-02,\n",
       "        4.27150920e-02, -3.40677937e-02, -5.32053347e-02,  1.32258884e-01,\n",
       "       -6.06395809e-02,  9.77797136e-02,  8.90169486e-02, -9.60553985e-02,\n",
       "        1.97636207e-01,  9.61797940e-03,  3.93745978e-02, -5.32935787e-03,\n",
       "        4.84116667e-02, -6.76998497e-02, -6.91736598e-02,  1.25090107e-01,\n",
       "        8.14591458e-02,  1.64739150e-01, -9.22138734e-02, -4.61082451e-02,\n",
       "        4.34992295e-02,  1.05127560e-01, -8.83664433e-02,  2.64616202e-02,\n",
       "       -2.44904329e-01,  2.28742835e-02, -1.91921321e-02, -6.62839680e-02,\n",
       "        3.90042836e-03,  6.22767861e-02,  1.10911740e-01,  1.26597042e-01,\n",
       "        2.30095728e-01, -6.32654439e-04,  7.96761145e-02,  1.97306415e-01,\n",
       "        4.19541194e-02, -6.65413700e-02,  2.33092034e-02, -1.06182314e-01,\n",
       "       -2.02801374e-01, -4.99806967e-03, -2.25020519e-02,  6.66813127e-02,\n",
       "        2.87585595e-02,  6.75463211e-02,  1.63802555e-01, -5.04967647e-02,\n",
       "       -1.22945080e-01, -4.03982250e-03,  5.17644622e-02,  9.85452723e-02,\n",
       "        2.02925636e-02,  5.80867852e-02,  1.06296002e-01, -4.84257618e-02,\n",
       "        1.33687480e-01,  9.20558072e-02,  9.89321958e-02, -3.47012959e-02,\n",
       "       -6.13937810e-02,  1.05962811e-01, -1.57264130e-01, -5.60628534e-02])"
      ]
     },
     "execution_count": 11,
     "metadata": {},
     "output_type": "execute_result"
    }
   ],
   "source": [
    "s"
   ]
  },
  {
   "cell_type": "code",
   "execution_count": 12,
   "id": "6a262081-dd7d-4bf0-ba80-6e8ffca756a6",
   "metadata": {},
   "outputs": [
    {
     "data": {
      "text/plain": [
       "(array([0.04367987, 0.        , 0.04367987, 0.08735975, 0.04367987,\n",
       "        0.30575912, 0.26207925, 0.69887799, 0.74255787, 1.04831699,\n",
       "        1.65983523, 1.70351511, 2.92655159, 3.66910946, 3.36335034,\n",
       "        4.36798745, 4.19326795, 3.53806984, 3.10127109, 2.79551197,\n",
       "        2.5771126 , 2.27135347, 1.61615536, 0.96095724, 0.69887799,\n",
       "        0.30575912, 0.26207925, 0.21839937, 0.08735975, 0.08735975]),\n",
       " array([-0.36894934, -0.3460555 , -0.32316166, -0.30026783, -0.27737399,\n",
       "        -0.25448015, -0.23158631, -0.20869247, -0.18579863, -0.16290479,\n",
       "        -0.14001095, -0.11711712, -0.09422328, -0.07132944, -0.0484356 ,\n",
       "        -0.02554176, -0.00264792,  0.02024592,  0.04313975,  0.06603359,\n",
       "         0.08892743,  0.11182127,  0.13471511,  0.15760895,  0.18050279,\n",
       "         0.20339663,  0.22629046,  0.2491843 ,  0.27207814,  0.29497198,\n",
       "         0.31786582]),\n",
       " <BarContainer object of 30 artists>)"
      ]
     },
     "execution_count": 12,
     "metadata": {},
     "output_type": "execute_result"
    },
    {
     "data": {
      "image/png": "[encoded data removed]",
      "text/plain": [
       "<Figure size 640x480 with 1 Axes>"
      ]
     },
     "metadata": {},
     "output_type": "display_data"
    }
   ],
   "source": [
    "plt.hist(s,bins=30,density=True,alpha=0.6,color=\"r\")"
   ]
  },
  {
   "cell_type": "code",
   "execution_count": 13,
   "id": "657cc04d-74df-4e43-a180-cc5bebb972b7",
   "metadata": {},
   "outputs": [
    {
     "data": {
      "image/png": "[encoded data removed]",
      "text/plain": [
       "<Figure size 640x480 with 1 Axes>"
      ]
     },
     "metadata": {},
     "output_type": "display_data"
    }
   ],
   "source": [
    "xmin,xmax=plt.xlim()\n",
    "x=np.linspace(xmin,xmax,100)\n",
    "p=stats.norm.pdf(x,mu,sigma)\n",
    "plt.plot(x,p,'k',linewidth=1)\n",
    "plt.title('Normal Distribution')\n",
    "plt.show()"
   ]
  },
  {
   "cell_type": "markdown",
   "id": "a8e2c24d-47b3-45ae-a2df-14ab5392d1c2",
   "metadata": {},
   "source": [
    "## Optimization"
   ]
  },
  {
   "cell_type": "code",
   "execution_count": 14,
   "id": "d76a6c56-cde7-4f00-9b34-cd2466566023",
   "metadata": {},
   "outputs": [],
   "source": [
    "# Simple function to minimize"
   ]
  },
  {
   "cell_type": "code",
   "execution_count": 15,
   "id": "3df05578-eb67-4056-83b8-0912b52e21b5",
   "metadata": {},
   "outputs": [
    {
     "name": "stdout",
     "output_type": "stream",
     "text": [
      "Optimized Value: [-1.11051052]\n",
      "Objective Function Value: -3.2463942726915387\n"
     ]
    }
   ],
   "source": [
    "def objective_function(x):\n",
    "    return x**2 +5 *np.sin(x)\n",
    "\n",
    "result=minimize(objective_function,x0=0) #start at 0\n",
    "\n",
    "print(\"Optimized Value:\", result.x)\n",
    "print(\"Objective Function Value:\", result.fun)\n"
   ]
  },
  {
   "cell_type": "markdown",
   "id": "2d8d93ab-57db-4b93-956c-6185eafcea0b",
   "metadata": {},
   "source": [
    "## Interpolation"
   ]
  },
  {
   "cell_type": "code",
   "execution_count": 16,
   "id": "fbef2919-96bf-4f55-8c8c-5ee086033483",
   "metadata": {},
   "outputs": [],
   "source": [
    "x=np.array([0,1,2,3,4,5])\n",
    "y=np.array([0,1,0,1,0,1])"
   ]
  },
  {
   "cell_type": "code",
   "execution_count": 17,
   "id": "f4d7d4af-2d7e-415d-8ee0-643e36a1b755",
   "metadata": {},
   "outputs": [
    {
     "data": {
      "image/png": "[encoded data removed]",
      "text/plain": [
       "<Figure size 640x480 with 1 Axes>"
      ]
     },
     "metadata": {},
     "output_type": "display_data"
    }
   ],
   "source": [
    "f=interp1d(x,y,kind='cubic')\n",
    "x_new=np.linspace(0,5,num=50)\n",
    "y_new=f(x_new)\n",
    "\n",
    "plt.plot(x, y, 'o', label='Known Data Points')\n",
    "plt.plot(x_new, y_new, '-', label='Interpolated Function')\n",
    "plt.title('Interpolation Example')\n",
    "plt.legend()\n",
    "plt.show()"
   ]
  },
  {
   "cell_type": "markdown",
   "id": "6cbeeffc-3a68-4c7e-9e21-292ae9d50ed9",
   "metadata": {},
   "source": [
    "## Integrating Function"
   ]
  },
  {
   "cell_type": "code",
   "execution_count": 18,
   "id": "a68fed51-4923-4b45-959c-4423c74e34f0",
   "metadata": {},
   "outputs": [
    {
     "name": "stdout",
     "output_type": "stream",
     "text": [
      "Integral result: 0.33333333333333337\n",
      "Estimated error: 3.700743415417189e-15\n"
     ]
    }
   ],
   "source": [
    "def f(x):\n",
    "    return x**2\n",
    "\n",
    "result,error=quad(f,0,1) #0-1\n",
    "\n",
    "print(\"Integral result:\", result)\n",
    "print(\"Estimated error:\", error)"
   ]
  },
  {
   "cell_type": "code",
   "execution_count": null,
   "id": "0aed65c3-7aca-412e-8d7c-f01f8ddc78dd",
   "metadata": {},
   "outputs": [],
   "source": []
  }
 ],
 "metadata": {
  "kernelspec": {
   "display_name": "Python 3 (ipykernel)",
   "language": "python",
   "name": "python3"
  },
  "language_info": {
   "codemirror_mode": {
    "name": "ipython",
    "version": 3
   },
   "file_extension": ".py",
   "mimetype": "text/x-python",
   "name": "python",
   "nbconvert_exporter": "python",
   "pygments_lexer": "ipython3",
   "version": "3.12.6"
  }
 },
 "nbformat": 4,
 "nbformat_minor": 5
}
