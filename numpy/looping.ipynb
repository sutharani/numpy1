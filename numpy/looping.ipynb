{
 "cells": [
  {
   "cell_type": "code",
   "execution_count": 6,
   "id": "25e417ff-69ab-4673-a1ea-f5d18482f072",
   "metadata": {},
   "outputs": [],
   "source": [
    "#LOOPING"
   ]
  },
  {
   "cell_type": "code",
   "execution_count": 7,
   "id": "51671664-f1bb-4ae5-abc6-f4b8165abe42",
   "metadata": {},
   "outputs": [],
   "source": [
    "import numpy as np"
   ]
  },
  {
   "cell_type": "code",
   "execution_count": 8,
   "id": "2333863b-d19a-4408-a69c-f8e7fb7610cb",
   "metadata": {},
   "outputs": [
    {
     "name": "stdout",
     "output_type": "stream",
     "text": [
      "1\n",
      "2\n",
      "3\n",
      "4\n",
      "5\n"
     ]
    }
   ],
   "source": [
    "arr=np.array([1,2,3,4,5])\n",
    "for i in arr:\n",
    "    print(i)"
   ]
  },
  {
   "cell_type": "code",
   "execution_count": 9,
   "id": "c3629ba2-7792-4d8c-9096-1f5b335199b7",
   "metadata": {},
   "outputs": [
    {
     "name": "stdout",
     "output_type": "stream",
     "text": [
      "[1 2 3]\n",
      "[4 5 6]\n"
     ]
    }
   ],
   "source": [
    "arr1=np.array([[1,2,3],[4,5,6]])\n",
    "for i  in arr1:\n",
    "  print(i)"
   ]
  },
  {
   "cell_type": "code",
   "execution_count": 10,
   "id": "b6c331f8-75c7-41fc-866b-46441f76e74a",
   "metadata": {},
   "outputs": [
    {
     "name": "stdout",
     "output_type": "stream",
     "text": [
      "1\n",
      "2\n",
      "3\n",
      "4\n",
      "5\n",
      "6\n"
     ]
    }
   ],
   "source": [
    "for i in arr1:\n",
    "    for j in i:\n",
    "        print(j)"
   ]
  },
  {
   "cell_type": "code",
   "execution_count": 11,
   "id": "78b27af9-c7e8-4be4-a0f7-92120936492e",
   "metadata": {},
   "outputs": [
    {
     "name": "stdout",
     "output_type": "stream",
     "text": [
      "1\n",
      "2\n",
      "3\n",
      "4\n",
      "5\n",
      "6\n"
     ]
    }
   ],
   "source": [
    "for i in np.nditer(arr1):\n",
    "  print(i)"
   ]
  },
  {
   "cell_type": "code",
   "execution_count": 12,
   "id": "15faaef6-32ae-4e9a-8316-32c7027cf870",
   "metadata": {},
   "outputs": [
    {
     "name": "stdout",
     "output_type": "stream",
     "text": [
      "[[1 2 3]\n",
      " [4 5 6]]\n",
      "[[ 7  8  9]\n",
      " [10 11 12]]\n"
     ]
    }
   ],
   "source": [
    "arr2=np.array([[[1,2,3],[4,5,6]],[[7,8,9],[10,11,12]]])\n",
    "for i in arr2:\n",
    "    print(i)"
   ]
  },
  {
   "cell_type": "code",
   "execution_count": 13,
   "id": "d4e9c715-470e-4857-9254-60b85cfbbc6f",
   "metadata": {},
   "outputs": [
    {
     "name": "stdout",
     "output_type": "stream",
     "text": [
      "1\n",
      "2\n",
      "3\n",
      "4\n",
      "5\n",
      "6\n",
      "7\n",
      "8\n",
      "9\n",
      "10\n",
      "11\n",
      "12\n"
     ]
    }
   ],
   "source": [
    "for i in arr2:\n",
    "    for j in i:\n",
    "        for k in j:\n",
    "            print(k)"
   ]
  },
  {
   "cell_type": "code",
   "execution_count": 14,
   "id": "a892d656-3655-48f8-90c0-a389cac593b1",
   "metadata": {},
   "outputs": [
    {
     "name": "stdout",
     "output_type": "stream",
     "text": [
      "1\n",
      "2\n",
      "3\n",
      "4\n",
      "5\n",
      "6\n",
      "7\n",
      "8\n",
      "9\n",
      "10\n",
      "11\n",
      "12\n"
     ]
    }
   ],
   "source": [
    "for i in np.nditer(arr2):\n",
    "  print(i)"
   ]
  },
  {
   "cell_type": "code",
   "execution_count": 15,
   "id": "671e3393-ce20-4f0a-879e-35490820f0e4",
   "metadata": {},
   "outputs": [
    {
     "data": {
      "text/plain": [
       "dtype('int64')"
      ]
     },
     "execution_count": 15,
     "metadata": {},
     "output_type": "execute_result"
    }
   ],
   "source": [
    "arr=np.array([10,11,12])\n",
    "arr.dtype"
   ]
  },
  {
   "cell_type": "code",
   "execution_count": 16,
   "id": "db33dff2-27c2-485e-8132-2a626b6e68f7",
   "metadata": {},
   "outputs": [
    {
     "name": "stdout",
     "output_type": "stream",
     "text": [
      "np.bytes_(b'10')\n",
      "np.bytes_(b'11')\n",
      "np.bytes_(b'12')\n"
     ]
    }
   ],
   "source": [
    "for i in np.nditer(arr,flags=[\"buffered\"],op_dtypes=[\"S\"]):\n",
    "    print(i)"
   ]
  },
  {
   "cell_type": "code",
   "execution_count": 17,
   "id": "6af7d93b-6c30-4dfd-afe1-6743ad4e6b6d",
   "metadata": {},
   "outputs": [],
   "source": [
    "#enumerate"
   ]
  },
  {
   "cell_type": "code",
   "execution_count": 18,
   "id": "fdc1ca16-4424-4e1e-9d37-3be93bf59713",
   "metadata": {},
   "outputs": [
    {
     "name": "stdout",
     "output_type": "stream",
     "text": [
      "((0,), np.int64(10))\n",
      "((1,), np.int64(11))\n",
      "((2,), np.int64(12))\n"
     ]
    }
   ],
   "source": [
    "for i in np.ndenumerate(arr):\n",
    "    print(i)"
   ]
  },
  {
   "cell_type": "code",
   "execution_count": 19,
   "id": "5278cbde-5b38-4d66-b520-cf84511f522f",
   "metadata": {},
   "outputs": [
    {
     "name": "stdout",
     "output_type": "stream",
     "text": [
      "(0,) 10\n",
      "(1,) 11\n",
      "(2,) 12\n"
     ]
    }
   ],
   "source": [
    "for i,j in np.ndenumerate(arr):\n",
    "    print(i,j)\n",
    " "
   ]
  },
  {
   "cell_type": "code",
   "execution_count": 20,
   "id": "90690282-4b8c-4121-9b9b-f2c9fb0c7684",
   "metadata": {},
   "outputs": [],
   "source": [
    "#SORTING"
   ]
  },
  {
   "cell_type": "code",
   "execution_count": 21,
   "id": "a86a3cb5-4c98-4d38-9338-673653c8f4f1",
   "metadata": {},
   "outputs": [
    {
     "data": {
      "text/plain": [
       "array([ 0,  1,  2,  3,  4,  5,  8, 10, 15])"
      ]
     },
     "execution_count": 21,
     "metadata": {},
     "output_type": "execute_result"
    }
   ],
   "source": [
    "arr=np.array([2,4,5,1,8,10,3,15,0])\n",
    "sorted=np.sort(arr)\n",
    "sorted"
   ]
  },
  {
   "cell_type": "code",
   "execution_count": 22,
   "id": "4fc48b7c-5c46-4e73-b409-9e439f31abe7",
   "metadata": {},
   "outputs": [],
   "source": [
    "# arg sort"
   ]
  },
  {
   "cell_type": "code",
   "execution_count": 23,
   "id": "8c338d81-09c8-4079-ac1d-ab092df16180",
   "metadata": {},
   "outputs": [
    {
     "data": {
      "text/plain": [
       "array(['A', 'B', 'C', 'D'], dtype='<U1')"
      ]
     },
     "execution_count": 23,
     "metadata": {},
     "output_type": "execute_result"
    }
   ],
   "source": [
    "arr1=np.array([7,8,9,10])\n",
    "indices=np.argsort(arr1)\n",
    "arr2=np.array([\"A\",\"B\",\"C\",\"D\"])\n",
    "sorted=arr2[indices]\n",
    "sorted\n"
   ]
  },
  {
   "cell_type": "code",
   "execution_count": 24,
   "id": "95696d10-701f-420d-903f-d6160ca286ea",
   "metadata": {},
   "outputs": [],
   "source": [
    "#inplace"
   ]
  },
  {
   "cell_type": "code",
   "execution_count": 25,
   "id": "8b7bae24-f571-4f2c-8650-b281c2c46c61",
   "metadata": {},
   "outputs": [],
   "source": [
    "arr=np.array([55,20,2,45,-5,0,-4,9])"
   ]
  },
  {
   "cell_type": "code",
   "execution_count": 26,
   "id": "7e324711-3a55-4628-9f01-130cdb2b38da",
   "metadata": {},
   "outputs": [
    {
     "data": {
      "text/plain": [
       "array([-5, -4,  0,  2,  9, 20, 45, 55])"
      ]
     },
     "execution_count": 26,
     "metadata": {},
     "output_type": "execute_result"
    }
   ],
   "source": [
    "arr.sort()\n",
    "arr"
   ]
  },
  {
   "cell_type": "code",
   "execution_count": 27,
   "id": "4ace489c-6aae-453e-9126-e6b22ff0863b",
   "metadata": {},
   "outputs": [],
   "source": [
    "# Datatypes"
   ]
  },
  {
   "cell_type": "code",
   "execution_count": 28,
   "id": "cd8b0826-78c9-4d2a-880a-041e23dbf4cb",
   "metadata": {},
   "outputs": [
    {
     "name": "stdout",
     "output_type": "stream",
     "text": [
      "int64\n"
     ]
    }
   ],
   "source": [
    "arr=np.array([1,2,3,4,5])\n",
    "print(arr.dtype)"
   ]
  },
  {
   "cell_type": "code",
   "execution_count": 30,
   "id": "3702bd9e-0858-46c4-81f4-9c42ead84ce4",
   "metadata": {},
   "outputs": [
    {
     "name": "stdout",
     "output_type": "stream",
     "text": [
      "<U6\n"
     ]
    }
   ],
   "source": [
    "arr=np.array([\"rose\",\"yellow\"])\n",
    "print(arr.dtype)"
   ]
  },
  {
   "cell_type": "code",
   "execution_count": 32,
   "id": "8e8de415-e253-4dab-b9ab-98da7d53f175",
   "metadata": {},
   "outputs": [],
   "source": [
    "# Creating array with defined datatypes"
   ]
  },
  {
   "cell_type": "code",
   "execution_count": 35,
   "id": "8f095737-fefd-45a7-877e-e033dcbdc1c3",
   "metadata": {},
   "outputs": [
    {
     "name": "stdout",
     "output_type": "stream",
     "text": [
      "[b'1' b'2' b'3' b'4']\n",
      "|S1\n"
     ]
    }
   ],
   "source": [
    "arr=np.array([1,2,3,4],dtype=\"S\")\n",
    "print(arr)\n",
    "print(arr.dtype)"
   ]
  },
  {
   "cell_type": "code",
   "execution_count": 37,
   "id": "f89a7ba5-7e31-4508-b186-a59a9d41fa0a",
   "metadata": {},
   "outputs": [],
   "source": [
    "# Convert Dtatypes on existing array"
   ]
  },
  {
   "cell_type": "code",
   "execution_count": 41,
   "id": "bc8c1692-4186-4121-9536-9a16adf68098",
   "metadata": {},
   "outputs": [
    {
     "name": "stdout",
     "output_type": "stream",
     "text": [
      "[1 3 9]\n",
      "int32\n"
     ]
    }
   ],
   "source": [
    "arr=np.array([1.2,3.5,9.5])\n",
    "newarr=arr.astype(\"i\")\n",
    "print(newarr)\n",
    "print(newarr.dtype)"
   ]
  },
  {
   "cell_type": "code",
   "execution_count": 43,
   "id": "5ee2cd33-89e2-4633-9b7c-9e52175b80e1",
   "metadata": {},
   "outputs": [
    {
     "name": "stdout",
     "output_type": "stream",
     "text": [
      "int64\n"
     ]
    }
   ],
   "source": [
    "arr=np.array([1.2,5.4,5.9])\n",
    "newarr=arr.astype(int)\n",
    "print(newarr.dtype)"
   ]
  },
  {
   "cell_type": "code",
   "execution_count": 48,
   "id": "9ae5de48-baef-4397-9c28-3c738b39d8a2",
   "metadata": {},
   "outputs": [
    {
     "name": "stdout",
     "output_type": "stream",
     "text": [
      "[ True  True  True False]\n",
      "bool\n"
     ]
    }
   ],
   "source": [
    "arr=np.array([2,3,5,0])\n",
    "newarr=arr.astype(bool)\n",
    "print(newarr)\n",
    "print(newarr.dtype)"
   ]
  },
  {
   "cell_type": "code",
   "execution_count": null,
   "id": "a60b541b-ab22-4a1e-9fd1-8723b1c862d6",
   "metadata": {},
   "outputs": [],
   "source": []
  }
 ],
 "metadata": {
  "kernelspec": {
   "display_name": "Python 3 (ipykernel)",
   "language": "python",
   "name": "python3"
  },
  "language_info": {
   "codemirror_mode": {
    "name": "ipython",
    "version": 3
   },
   "file_extension": ".py",
   "mimetype": "text/x-python",
   "name": "python",
   "nbconvert_exporter": "python",
   "pygments_lexer": "ipython3",
   "version": "3.12.6"
  }
 },
 "nbformat": 4,
 "nbformat_minor": 5
}
