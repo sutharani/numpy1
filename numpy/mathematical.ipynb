{
 "cells": [
  {
   "cell_type": "markdown",
   "id": "1c99cdbd-ffa4-4e4d-945a-7fe629a8f128",
   "metadata": {},
   "source": [
    "# mathematical function"
   ]
  },
  {
   "cell_type": "code",
   "execution_count": 5,
   "id": "13d1551d-ff6f-4fcb-b8c0-40d4cb2a0d2f",
   "metadata": {},
   "outputs": [],
   "source": [
    "import numpy as np"
   ]
  },
  {
   "cell_type": "code",
   "execution_count": 6,
   "id": "235ed411-539e-4497-8ade-de2e37a5cf35",
   "metadata": {},
   "outputs": [
    {
     "data": {
      "text/plain": [
       "array([ 7,  9, 11, 13, 15])"
      ]
     },
     "execution_count": 6,
     "metadata": {},
     "output_type": "execute_result"
    }
   ],
   "source": [
    "arr1=np.array([1,2,3,4,5])\n",
    "arr2=np.array([6,7,8,9,10])\n",
    "res=np.add(arr1,arr2)\n",
    "res\n"
   ]
  },
  {
   "cell_type": "code",
   "execution_count": 7,
   "id": "f248c25f-18c9-4401-9e45-4fe66b75c913",
   "metadata": {},
   "outputs": [],
   "source": [
    "#sum"
   ]
  },
  {
   "cell_type": "code",
   "execution_count": 9,
   "id": "173b9ee6-53ca-404c-9363-9c5ba1a98895",
   "metadata": {},
   "outputs": [],
   "source": [
    "total_sum=np.sum(arr1)"
   ]
  },
  {
   "cell_type": "code",
   "execution_count": 10,
   "id": "3650fe74-6328-460b-9a57-4e644eb29bf9",
   "metadata": {},
   "outputs": [
    {
     "data": {
      "text/plain": [
       "np.int64(15)"
      ]
     },
     "execution_count": 10,
     "metadata": {},
     "output_type": "execute_result"
    }
   ],
   "source": [
    "total_sum"
   ]
  },
  {
   "cell_type": "code",
   "execution_count": 11,
   "id": "c5792f8f-d17e-4c84-a1ae-3636ee3ad436",
   "metadata": {},
   "outputs": [],
   "source": [
    "#mean value"
   ]
  },
  {
   "cell_type": "code",
   "execution_count": 12,
   "id": "aaf93aab-8fce-46eb-a030-0503edc84fd8",
   "metadata": {},
   "outputs": [
    {
     "data": {
      "text/plain": [
       "np.float64(3.0)"
      ]
     },
     "execution_count": 12,
     "metadata": {},
     "output_type": "execute_result"
    }
   ],
   "source": [
    "mean_value=np.mean(arr1)\n",
    "mean_value"
   ]
  },
  {
   "cell_type": "code",
   "execution_count": 13,
   "id": "9ab1b797-1a0b-493a-a9b3-1e482eea2829",
   "metadata": {},
   "outputs": [],
   "source": [
    "#max value"
   ]
  },
  {
   "cell_type": "code",
   "execution_count": 14,
   "id": "e1be7f77-92cd-448e-b146-7b88d71b42b0",
   "metadata": {},
   "outputs": [
    {
     "data": {
      "text/plain": [
       "np.int64(5)"
      ]
     },
     "execution_count": 14,
     "metadata": {},
     "output_type": "execute_result"
    }
   ],
   "source": [
    "max_value=np.max(arr1)\n",
    "max_value"
   ]
  },
  {
   "cell_type": "code",
   "execution_count": null,
   "id": "e4dd6731-bbe9-47ec-913b-698a071ec0f5",
   "metadata": {},
   "outputs": [],
   "source": []
  }
 ],
 "metadata": {
  "kernelspec": {
   "display_name": "Python 3 (ipykernel)",
   "language": "python",
   "name": "python3"
  },
  "language_info": {
   "codemirror_mode": {
    "name": "ipython",
    "version": 3
   },
   "file_extension": ".py",
   "mimetype": "text/x-python",
   "name": "python",
   "nbconvert_exporter": "python",
   "pygments_lexer": "ipython3",
   "version": "3.12.6"
  }
 },
 "nbformat": 4,
 "nbformat_minor": 5
}
