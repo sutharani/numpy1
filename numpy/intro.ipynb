{
 "cells": [
  {
   "cell_type": "code",
   "execution_count": 1,
   "id": "e50eca0c-662c-4854-a136-0bf087040164",
   "metadata": {},
   "outputs": [],
   "source": [
    "import numpy"
   ]
  },
  {
   "cell_type": "code",
   "execution_count": 2,
   "id": "ce549a5f-85bf-4117-9cec-15c735cd6a97",
   "metadata": {},
   "outputs": [],
   "source": [
    "import numpy as np\n"
   ]
  },
  {
   "cell_type": "code",
   "execution_count": 3,
   "id": "0afdd4b7-98ca-44a6-b35e-616630b971b0",
   "metadata": {},
   "outputs": [],
   "source": [
    "#zero dimensitional\n"
   ]
  },
  {
   "cell_type": "raw",
   "id": "335fb419-711c-467c-844a-a36b876dd948",
   "metadata": {},
   "source": [
    "zero_dim=np.array(4)\n",
    "zero_dim\n"
   ]
  },
  {
   "cell_type": "code",
   "execution_count": 4,
   "id": "095cbe0e-3d1b-4420-a911-f7d8b19a36a7",
   "metadata": {},
   "outputs": [],
   "source": [
    "#One dimensional\n"
   ]
  },
  {
   "cell_type": "code",
   "execution_count": 5,
   "id": "2f409d6e-be5d-47e2-8fed-b62aa3944008",
   "metadata": {},
   "outputs": [
    {
     "name": "stdout",
     "output_type": "stream",
     "text": [
      "dim 1\n",
      "index 5\n",
      "[3 5 7]\n",
      "[ 7 15 19]\n"
     ]
    }
   ],
   "source": [
    "one_dim=np.array([1,3,5,7,15,19])\n",
    "print(\"dim\",one_dim.ndim)\n",
    "print(\"index\",one_dim[2])\n",
    "#slicing\n",
    "print(one_dim[1:4])\n",
    "#negative slicing\n",
    "print(one_dim[-3:])"
   ]
  },
  {
   "cell_type": "code",
   "execution_count": 6,
   "id": "29d9b977-84d3-497b-8bfd-16d04bdda7ae",
   "metadata": {},
   "outputs": [],
   "source": [
    "#Two dimensional"
   ]
  },
  {
   "cell_type": "code",
   "execution_count": 7,
   "id": "486aa5eb-b545-4daf-b723-1f3f1b922f1d",
   "metadata": {},
   "outputs": [
    {
     "name": "stdout",
     "output_type": "stream",
     "text": [
      "dim 2\n",
      "index 2\n",
      "index 4\n",
      "2\n",
      "index 5\n"
     ]
    }
   ],
   "source": [
    "two_dim=np.array([[1,2,3],[4,5,6]])\n",
    "print(\"dim\",two_dim.ndim)\n",
    "print(\"index\",two_dim[0,1])\n",
    "print(\"index\",two_dim[1,0])\n",
    "#slicing\n",
    "print(two_dim[0,1])\n",
    "#negative\n",
    "print(\"index\",two_dim[1,-2])      "
   ]
  },
  {
   "cell_type": "code",
   "execution_count": 8,
   "id": "62f673a3-d648-47d5-ac7f-4c92b18714f3",
   "metadata": {},
   "outputs": [],
   "source": [
    "#Three dimensional"
   ]
  },
  {
   "cell_type": "code",
   "execution_count": 9,
   "id": "ebda5c9e-8a81-40af-af2e-e2fa31f33281",
   "metadata": {},
   "outputs": [
    {
     "name": "stdout",
     "output_type": "stream",
     "text": [
      "dim 3\n",
      "index 4\n",
      "index 10\n",
      "2\n",
      "index 4\n"
     ]
    }
   ],
   "source": [
    "three_dim=np.array([[[1,2,3],[4,5,6]],[[7,8,9],[10,11,12]]])\n",
    "print(\"dim\",three_dim.ndim)\n",
    "print(\"index\",three_dim[0,1,0])\n",
    "print(\"index\",three_dim[1,1,0])\n",
    "#slicing\n",
    "print(three_dim[0,0,1])\n",
    "#negative\n",
    "print(\"index\",three_dim[0,-1,0])"
   ]
  },
  {
   "cell_type": "code",
   "execution_count": 10,
   "id": "0ed0bfa8-6b31-4b1f-ad0f-671b4c5c8708",
   "metadata": {},
   "outputs": [],
   "source": [
    "#zeros"
   ]
  },
  {
   "cell_type": "code",
   "execution_count": 11,
   "id": "662866c8-f125-44eb-ac7f-3b4b2774b470",
   "metadata": {},
   "outputs": [
    {
     "data": {
      "text/plain": [
       "array([[0., 0.],\n",
       "       [0., 0.]])"
      ]
     },
     "execution_count": 11,
     "metadata": {},
     "output_type": "execute_result"
    }
   ],
   "source": [
    "zero_arr=np.zeros((2,2))\n",
    "zero_arr"
   ]
  },
  {
   "cell_type": "code",
   "execution_count": 12,
   "id": "872dc023-3d07-4919-935a-74f40383557e",
   "metadata": {},
   "outputs": [],
   "source": [
    "#ones"
   ]
  },
  {
   "cell_type": "code",
   "execution_count": 13,
   "id": "78e6f09b-ea98-4f78-9c5c-0efb937af822",
   "metadata": {},
   "outputs": [
    {
     "data": {
      "text/plain": [
       "array([[1., 1., 1.],\n",
       "       [1., 1., 1.],\n",
       "       [1., 1., 1.],\n",
       "       [1., 1., 1.]])"
      ]
     },
     "execution_count": 13,
     "metadata": {},
     "output_type": "execute_result"
    }
   ],
   "source": [
    "one_arr=np.ones((4,3))\n",
    "one_arr"
   ]
  },
  {
   "cell_type": "code",
   "execution_count": 14,
   "id": "16d4a5b2-ea2f-4afc-9873-bbc8997f6fb2",
   "metadata": {},
   "outputs": [],
   "source": [
    "#full"
   ]
  },
  {
   "cell_type": "code",
   "execution_count": 15,
   "id": "d1b8fdeb-15c6-4cb9-b3c3-ae9f2a69f895",
   "metadata": {},
   "outputs": [
    {
     "data": {
      "text/plain": [
       "array([[5, 5],\n",
       "       [5, 5]])"
      ]
     },
     "execution_count": 15,
     "metadata": {},
     "output_type": "execute_result"
    }
   ],
   "source": [
    "full_arr=np.full((2,2),5)\n",
    "full_arr"
   ]
  },
  {
   "cell_type": "code",
   "execution_count": null,
   "id": "dba9cfef-f748-4207-ad52-1d339b594f8d",
   "metadata": {},
   "outputs": [],
   "source": []
  },
  {
   "cell_type": "code",
   "execution_count": null,
   "id": "f6232135-7b13-4dbe-ba42-e070525d6f51",
   "metadata": {},
   "outputs": [],
   "source": []
  }
 ],
 "metadata": {
  "kernelspec": {
   "display_name": "Python 3 (ipykernel)",
   "language": "python",
   "name": "python3"
  },
  "language_info": {
   "codemirror_mode": {
    "name": "ipython",
    "version": 3
   },
   "file_extension": ".py",
   "mimetype": "text/x-python",
   "name": "python",
   "nbconvert_exporter": "python",
   "pygments_lexer": "ipython3",
   "version": "3.12.6"
  }
 },
 "nbformat": 4,
 "nbformat_minor": 5
}
