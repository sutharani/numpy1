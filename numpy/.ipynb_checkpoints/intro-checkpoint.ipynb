{
 "cells": [
  {
   "cell_type": "code",
   "execution_count": null,
   "id": "e50eca0c-662c-4854-a136-0bf087040164",
   "metadata": {},
   "outputs": [],
   "source": [
    "import numpy"
   ]
  },
  {
   "cell_type": "code",
   "execution_count": null,
   "id": "ce549a5f-85bf-4117-9cec-15c735cd6a97",
   "metadata": {},
   "outputs": [],
   "source": [
    "import numpy as np\n"
   ]
  },
  {
   "cell_type": "code",
   "execution_count": 13,
   "id": "0afdd4b7-98ca-44a6-b35e-616630b971b0",
   "metadata": {},
   "outputs": [],
   "source": [
    "#zero dimensitional\n"
   ]
  },
  {
   "cell_type": "code",
   "execution_count": 1,
   "id": "e3dbfdea-2ead-450f-b240-19a491076edd",
   "metadata": {},
   "outputs": [
    {
     "ename": "NameError",
     "evalue": "name 'np' is not defined",
     "output_type": "error",
     "traceback": [
      "\u001b[1;31m---------------------------------------------------------------------------\u001b[0m",
      "\u001b[1;31mNameError\u001b[0m                                 Traceback (most recent call last)",
      "Cell \u001b[1;32mIn[1], line 1\u001b[0m\n\u001b[1;32m----> 1\u001b[0m zero_dim\u001b[38;5;241m=\u001b[39m \u001b[43mnp\u001b[49m\u001b[38;5;241m.\u001b[39marray(\u001b[38;5;241m4\u001b[39m)\n\u001b[0;32m      2\u001b[0m zero_dim\n\u001b[0;32m      3\u001b[0m zero_dim\u001b[38;5;241m.\u001b[39mndim\n",
      "\u001b[1;31mNameError\u001b[0m: name 'np' is not defined"
     ]
    }
   ],
   "source": [
    "zero_dim=np.array(4)\n",
    "zero_dim\n",
    "zero_dim.ndim"
   ]
  },
  {
   "cell_type": "code",
   "execution_count": 2,
   "id": "095cbe0e-3d1b-4420-a911-f7d8b19a36a7",
   "metadata": {},
   "outputs": [],
   "source": [
    "#one dimensional\n"
   ]
  },
  {
   "cell_type": "code",
   "execution_count": null,
   "id": "2f409d6e-be5d-47e2-8fed-b62aa3944008",
   "metadata": {},
   "outputs": [],
   "source": [
    "one_dim=np.array([1,3,5,7])\n",
    "print(\"dim\",one_dim.ndim)"
   ]
  }
 ],
 "metadata": {
  "kernelspec": {
   "display_name": "Python 3 (ipykernel)",
   "language": "python",
   "name": "python3"
  },
  "language_info": {
   "codemirror_mode": {
    "name": "ipython",
    "version": 3
   },
   "file_extension": ".py",
   "mimetype": "text/x-python",
   "name": "python",
   "nbconvert_exporter": "python",
   "pygments_lexer": "ipython3",
   "version": "3.12.6"
  }
 },
 "nbformat": 4,
 "nbformat_minor": 5
}
