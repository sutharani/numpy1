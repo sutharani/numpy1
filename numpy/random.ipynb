{
 "cells": [
  {
   "cell_type": "markdown",
   "id": "2f2032fb-4ce4-4e6a-91c5-c442a1210b2a",
   "metadata": {},
   "source": [
    "## Random"
   ]
  },
  {
   "cell_type": "code",
   "execution_count": 4,
   "id": "194d224e-fad4-42c5-85b7-529668de9e36",
   "metadata": {},
   "outputs": [],
   "source": [
    "import numpy as np\n",
    "from numpy import random"
   ]
  },
  {
   "cell_type": "code",
   "execution_count": 8,
   "id": "f7b2c686-913c-4f7a-b5c8-ceb073daeb47",
   "metadata": {},
   "outputs": [
    {
     "data": {
      "text/plain": [
       "array([8, 1], dtype=int32)"
      ]
     },
     "execution_count": 8,
     "metadata": {},
     "output_type": "execute_result"
    }
   ],
   "source": [
    "arr=random.randint(10,size=2)\n",
    "arr"
   ]
  },
  {
   "cell_type": "code",
   "execution_count": 9,
   "id": "4efec50c-74d3-4434-a7ec-faa239d577f6",
   "metadata": {},
   "outputs": [],
   "source": [
    "# USING RESHAPE"
   ]
  },
  {
   "cell_type": "code",
   "execution_count": 12,
   "id": "e4726cb3-aef3-446a-b7ec-b5a1aec81584",
   "metadata": {},
   "outputs": [
    {
     "data": {
      "text/plain": [
       "array([[66, 11, 89, 77, 11, 15, 81, 37, 54, 77],\n",
       "       [67, 53, 42, 99, 76, 41, 24, 80, 19, 81],\n",
       "       [85, 25, 96, 58, 24, 85, 84, 81, 28, 72],\n",
       "       [28, 18, 13, 82, 35, 15, 27, 46, 53, 28],\n",
       "       [94, 72, 32, 47, 21, 38, 54, 12, 79, 42],\n",
       "       [23, 56, 87, 39, 54, 99, 10, 59, 86, 48],\n",
       "       [30, 56, 56, 63, 40, 96, 26, 93, 27, 85],\n",
       "       [14, 44, 78, 62, 38, 77, 62, 56, 95, 69],\n",
       "       [69, 24, 56, 48, 63, 54, 54, 56, 42, 19],\n",
       "       [39, 23, 34, 69, 31, 52, 23, 98, 67, 64]], dtype=int32)"
      ]
     },
     "execution_count": 12,
     "metadata": {},
     "output_type": "execute_result"
    }
   ],
   "source": [
    "arr=random.randint(low=10,high=100,size=100).reshape(10,10)\n",
    "arr"
   ]
  },
  {
   "cell_type": "code",
   "execution_count": null,
   "id": "9f093459-0afa-4b4c-afa3-a152dc49712e",
   "metadata": {},
   "outputs": [],
   "source": []
  }
 ],
 "metadata": {
  "kernelspec": {
   "display_name": "Python 3 (ipykernel)",
   "language": "python",
   "name": "python3"
  },
  "language_info": {
   "codemirror_mode": {
    "name": "ipython",
    "version": 3
   },
   "file_extension": ".py",
   "mimetype": "text/x-python",
   "name": "python",
   "nbconvert_exporter": "python",
   "pygments_lexer": "ipython3",
   "version": "3.12.6"
  }
 },
 "nbformat": 4,
 "nbformat_minor": 5
}
