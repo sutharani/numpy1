{
 "cells": [
  {
   "cell_type": "code",
   "execution_count": 2,
   "id": "77ba0be9-f638-4a37-a2ef-271e0fb98c5b",
   "metadata": {},
   "outputs": [],
   "source": [
    "import numpy as np"
   ]
  },
  {
   "cell_type": "code",
   "execution_count": 3,
   "id": "e9de42ba-98b8-4c54-9309-1a8eab606c20",
   "metadata": {},
   "outputs": [],
   "source": [
    "# COPY"
   ]
  },
  {
   "cell_type": "code",
   "execution_count": 4,
   "id": "74351838-543c-40b8-b6ee-c9042ad829c0",
   "metadata": {},
   "outputs": [
    {
     "data": {
      "text/plain": [
       "array([1, 2, 3, 4, 5, 6, 7])"
      ]
     },
     "execution_count": 4,
     "metadata": {},
     "output_type": "execute_result"
    }
   ],
   "source": [
    "arr=np.array([1,2,3,4,5,6,7])\n",
    "newarr=arr.copy()\n",
    "arr"
   ]
  },
  {
   "cell_type": "code",
   "execution_count": 5,
   "id": "73c534a5-6c36-479d-87b8-3a366e00503c",
   "metadata": {},
   "outputs": [
    {
     "data": {
      "text/plain": [
       "array([9, 2, 3, 4, 5, 6, 7])"
      ]
     },
     "execution_count": 5,
     "metadata": {},
     "output_type": "execute_result"
    }
   ],
   "source": [
    "newarr[0]=9\n",
    "newarr"
   ]
  },
  {
   "cell_type": "code",
   "execution_count": 6,
   "id": "097d0bc1-008b-49c0-b3bd-8a65934cc7cf",
   "metadata": {},
   "outputs": [],
   "source": [
    "# VIEW"
   ]
  },
  {
   "cell_type": "code",
   "execution_count": 7,
   "id": "17977517-bf46-44cb-aa9d-372839420c96",
   "metadata": {},
   "outputs": [
    {
     "data": {
      "text/plain": [
       "array([1, 2, 3, 4, 5, 6, 7])"
      ]
     },
     "execution_count": 7,
     "metadata": {},
     "output_type": "execute_result"
    }
   ],
   "source": [
    "arr=np.array([1,2,3,4,5,6,7])\n",
    "newarr=arr.view()\n",
    "arr"
   ]
  },
  {
   "cell_type": "code",
   "execution_count": 8,
   "id": "127d5179-390f-408a-a37d-f7f7059ccce9",
   "metadata": {},
   "outputs": [
    {
     "data": {
      "text/plain": [
       "array([9, 2, 3, 4, 5, 6, 7])"
      ]
     },
     "execution_count": 8,
     "metadata": {},
     "output_type": "execute_result"
    }
   ],
   "source": [
    "newarr[0]=9\n",
    "newarr"
   ]
  },
  {
   "cell_type": "code",
   "execution_count": 9,
   "id": "628c0ee7-9485-4d0f-8f3b-719c7e05ea6c",
   "metadata": {},
   "outputs": [
    {
     "data": {
      "text/plain": [
       "array([9, 2, 3, 4, 5, 6, 7])"
      ]
     },
     "execution_count": 9,
     "metadata": {},
     "output_type": "execute_result"
    }
   ],
   "source": [
    "arr"
   ]
  },
  {
   "cell_type": "code",
   "execution_count": 10,
   "id": "6c05afe1-3d97-4271-b2d0-d31561fbff49",
   "metadata": {},
   "outputs": [],
   "source": [
    "# Shape"
   ]
  },
  {
   "cell_type": "code",
   "execution_count": 11,
   "id": "80915ef0-e735-44d3-adb3-51bddce63ae1",
   "metadata": {},
   "outputs": [
    {
     "data": {
      "text/plain": [
       "(2, 3)"
      ]
     },
     "execution_count": 11,
     "metadata": {},
     "output_type": "execute_result"
    }
   ],
   "source": [
    "arr=np.array([[2,3,4],[7,8,9]])\n",
    "arr.shape"
   ]
  },
  {
   "cell_type": "code",
   "execution_count": null,
   "id": "dd641bcc-ce7a-4fa9-bd9b-65c9497def78",
   "metadata": {},
   "outputs": [],
   "source": [
    "# RESHAPE"
   ]
  },
  {
   "cell_type": "code",
   "execution_count": null,
   "id": "5e6019fa-83ce-4aac-a501-a4aac1901a21",
   "metadata": {},
   "outputs": [],
   "source": [
    "arr=np.array([10,20,30,40]).reshape(2,2)\n",
    "print(arr)"
   ]
  },
  {
   "cell_type": "code",
   "execution_count": null,
   "id": "981e3e66-14bf-4492-b6a1-15ceb4ce9641",
   "metadata": {},
   "outputs": [],
   "source": [
    "# Arange"
   ]
  },
  {
   "cell_type": "code",
   "execution_count": null,
   "id": "009e1c5b-41db-4836-a7d4-b3424bbd1402",
   "metadata": {},
   "outputs": [],
   "source": [
    "arr=np.arange(1,15)\n",
    "arr"
   ]
  },
  {
   "cell_type": "code",
   "execution_count": null,
   "id": "c35f8a26-7942-491b-8a15-c723c2c8298f",
   "metadata": {},
   "outputs": [],
   "source": [
    "arr=np.arange(1,15,2)\n",
    "arr"
   ]
  },
  {
   "cell_type": "code",
   "execution_count": null,
   "id": "20bb6d45-df58-49ea-b905-773a1fc19c4a",
   "metadata": {},
   "outputs": [],
   "source": [
    "# LINSPACE"
   ]
  },
  {
   "cell_type": "code",
   "execution_count": null,
   "id": "8a7accfe-228f-4af5-b6eb-b79125eadd65",
   "metadata": {},
   "outputs": [],
   "source": [
    "arr=np.linspace(1,5,2)\n",
    "arr"
   ]
  },
  {
   "cell_type": "code",
   "execution_count": null,
   "id": "036af09c-3dcf-494f-b944-d72e3f80a8fe",
   "metadata": {},
   "outputs": [],
   "source": [
    "# CONCATENATE"
   ]
  },
  {
   "cell_type": "code",
   "execution_count": null,
   "id": "2a4d542c-f39a-4755-a996-85507290d6db",
   "metadata": {},
   "outputs": [],
   "source": [
    "arr1=np.array([5,6,7])\n",
    "arr2=np.array([8,9,10])\n",
    "res=np.concatenate((arr1,arr2))\n",
    "res"
   ]
  },
  {
   "cell_type": "code",
   "execution_count": null,
   "id": "f76ff63e-3215-49c9-9fda-7ff2cda7c760",
   "metadata": {},
   "outputs": [],
   "source": [
    "arr1=np.array([[10,11,12],[13,14,15]])\n",
    "arr2=np.array([[16,17,18],[19,20,21]])\n",
    "res=np.concatenate((arr1,arr2),axis=1)\n",
    "res\n"
   ]
  },
  {
   "cell_type": "code",
   "execution_count": null,
   "id": "a4b0ad48-8ff0-49be-beba-7a4eb783115d",
   "metadata": {},
   "outputs": [],
   "source": [
    "# ARITHMETIC OPERATION\n"
   ]
  },
  {
   "cell_type": "code",
   "execution_count": null,
   "id": "e634ae5d-bed3-4f80-a73e-22e922b33764",
   "metadata": {},
   "outputs": [],
   "source": [
    "arr1=np.array([1,2,3])\n",
    "arr2=np.array([5,6,7])\n",
    "arr1+arr2\n"
   ]
  },
  {
   "cell_type": "code",
   "execution_count": null,
   "id": "2809352f-b48e-4581-ac23-e0f69be72cf6",
   "metadata": {},
   "outputs": [],
   "source": [
    "arr1=np.array([11,12,13])\n",
    "arr2=np.array([14,15,16])\n",
    "arr1*arr2"
   ]
  },
  {
   "cell_type": "code",
   "execution_count": null,
   "id": "f9ad0572-dc69-4ddd-a837-0ba852d6e560",
   "metadata": {},
   "outputs": [],
   "source": [
    "arr1=np.array([2,3,4])\n",
    "arr2=np.array([5,6,7])\n",
    "arr1/arr2"
   ]
  },
  {
   "cell_type": "code",
   "execution_count": null,
   "id": "b8cda435-06c3-4f8a-a446-f7e2f852c005",
   "metadata": {},
   "outputs": [],
   "source": []
  },
  {
   "cell_type": "code",
   "execution_count": null,
   "id": "87adc5bb-b5f9-4a3c-9529-d3afdc979eae",
   "metadata": {},
   "outputs": [],
   "source": []
  }
 ],
 "metadata": {
  "kernelspec": {
   "display_name": "Python 3 (ipykernel)",
   "language": "python",
   "name": "python3"
  },
  "language_info": {
   "codemirror_mode": {
    "name": "ipython",
    "version": 3
   },
   "file_extension": ".py",
   "mimetype": "text/x-python",
   "name": "python",
   "nbconvert_exporter": "python",
   "pygments_lexer": "ipython3",
   "version": "3.12.6"
  }
 },
 "nbformat": 4,
 "nbformat_minor": 5
}
