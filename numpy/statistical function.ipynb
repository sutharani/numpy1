{
 "cells": [
  {
   "cell_type": "markdown",
   "id": "2313b811-fd41-41ec-8182-e131c60b8ab2",
   "metadata": {},
   "source": [
    "# statistical function"
   ]
  },
  {
   "cell_type": "code",
   "execution_count": 2,
   "id": "ffb77815-8177-4133-8fa3-8ae50cf45e68",
   "metadata": {},
   "outputs": [],
   "source": [
    "import numpy as np"
   ]
  },
  {
   "cell_type": "code",
   "execution_count": null,
   "id": "db059961-8c2b-463f-a8af-e8ca4e7bd2ed",
   "metadata": {},
   "outputs": [],
   "source": [
    "# SORT"
   ]
  },
  {
   "cell_type": "code",
   "execution_count": 3,
   "id": "53b6dccd-3b4c-4ebe-906a-3fb2164675a3",
   "metadata": {},
   "outputs": [
    {
     "data": {
      "text/plain": [
       "array([10, 11, 12, 13, 14, 15])"
      ]
     },
     "execution_count": 3,
     "metadata": {},
     "output_type": "execute_result"
    }
   ],
   "source": [
    "arr1=np.array([10,11,12,13,14,15])\n",
    "arr1.sort()\n",
    "arr1"
   ]
  },
  {
   "cell_type": "code",
   "execution_count": null,
   "id": "18587f86-fc9d-496e-b0a4-2edc1480203e",
   "metadata": {},
   "outputs": [],
   "source": [
    "# MEDIAN"
   ]
  },
  {
   "cell_type": "code",
   "execution_count": 4,
   "id": "6ae01a69-0a2a-496f-b436-bf43da48bad5",
   "metadata": {},
   "outputs": [
    {
     "data": {
      "text/plain": [
       "np.float64(12.5)"
      ]
     },
     "execution_count": 4,
     "metadata": {},
     "output_type": "execute_result"
    }
   ],
   "source": [
    "median_value=np.median(arr1)\n",
    "median_value\n"
   ]
  },
  {
   "cell_type": "code",
   "execution_count": 5,
   "id": "dd59ec99-4bd9-43a2-88d3-02e46fededf6",
   "metadata": {},
   "outputs": [
    {
     "data": {
      "text/plain": [
       "np.float64(1.707825127659933)"
      ]
     },
     "execution_count": 5,
     "metadata": {},
     "output_type": "execute_result"
    }
   ],
   "source": [
    "std_value=np.std(arr1)\n",
    "std_value"
   ]
  },
  {
   "cell_type": "code",
   "execution_count": 6,
   "id": "3747202b-97f6-4407-8d7c-bcbc8082dc61",
   "metadata": {},
   "outputs": [
    {
     "data": {
      "text/plain": [
       "np.int64(10)"
      ]
     },
     "execution_count": 6,
     "metadata": {},
     "output_type": "execute_result"
    }
   ],
   "source": [
    "min_value=np.min(arr1)\n",
    "min_value"
   ]
  },
  {
   "cell_type": "code",
   "execution_count": 7,
   "id": "43a9cc85-3722-4843-8916-5ce415dbdd49",
   "metadata": {},
   "outputs": [],
   "source": [
    "# RANGE"
   ]
  },
  {
   "cell_type": "code",
   "execution_count": 8,
   "id": "02c95388-16b8-4ac8-868e-332e03561c7c",
   "metadata": {},
   "outputs": [
    {
     "data": {
      "text/plain": [
       "np.int64(5)"
      ]
     },
     "execution_count": 8,
     "metadata": {},
     "output_type": "execute_result"
    }
   ],
   "source": [
    "range_value=np.ptp(arr1)\n",
    "range_value"
   ]
  },
  {
   "cell_type": "code",
   "execution_count": 9,
   "id": "325661f0-fefd-4054-82f1-323e4f869f16",
   "metadata": {},
   "outputs": [],
   "source": [
    "# PERCENTILE"
   ]
  },
  {
   "cell_type": "code",
   "execution_count": 10,
   "id": "cd5b2549-4411-4f4e-b775-b7cb526558df",
   "metadata": {},
   "outputs": [
    {
     "data": {
      "text/plain": [
       "np.float64(11.5)"
      ]
     },
     "execution_count": 10,
     "metadata": {},
     "output_type": "execute_result"
    }
   ],
   "source": [
    "percentile_30th=np.percentile(arr1,30)\n",
    "percentile_30th"
   ]
  },
  {
   "cell_type": "code",
   "execution_count": 11,
   "id": "41a8c32b-9f6a-4bd2-a117-f35964ed60e4",
   "metadata": {},
   "outputs": [],
   "source": [
    "# PRODUCT"
   ]
  },
  {
   "cell_type": "code",
   "execution_count": 12,
   "id": "2c657f7f-6efc-4c2d-a905-71c316dca60f",
   "metadata": {},
   "outputs": [
    {
     "data": {
      "text/plain": [
       "np.int64(3603600)"
      ]
     },
     "execution_count": 12,
     "metadata": {},
     "output_type": "execute_result"
    }
   ],
   "source": [
    "product=np.prod(arr1)\n",
    "product"
   ]
  },
  {
   "cell_type": "code",
   "execution_count": 13,
   "id": "052efd42-81cc-420c-bba2-e06930f0c0dc",
   "metadata": {},
   "outputs": [
    {
     "data": {
      "text/plain": [
       "array([10, 21, 33, 46, 60, 75])"
      ]
     },
     "execution_count": 13,
     "metadata": {},
     "output_type": "execute_result"
    }
   ],
   "source": [
    "cum_sum=np.cumsum(arr1)\n",
    "cum_sum"
   ]
  },
  {
   "cell_type": "code",
   "execution_count": 14,
   "id": "1adbb762-6065-45c7-811c-d806209bc6df",
   "metadata": {},
   "outputs": [
    {
     "data": {
      "text/plain": [
       "array([     10,     110,    1320,   17160,  240240, 3603600])"
      ]
     },
     "execution_count": 14,
     "metadata": {},
     "output_type": "execute_result"
    }
   ],
   "source": [
    "cum_product=np.cumprod(arr1)\n",
    "cum_product"
   ]
  },
  {
   "cell_type": "code",
   "execution_count": 15,
   "id": "f4b10b82-fc89-4e4b-a0f3-4504161b5577",
   "metadata": {},
   "outputs": [],
   "source": [
    "# UNIQUE ELEMENTS"
   ]
  },
  {
   "cell_type": "code",
   "execution_count": 16,
   "id": "76237ac5-0b6e-49d6-ae12-835ec3058700",
   "metadata": {},
   "outputs": [
    {
     "data": {
      "text/plain": [
       "array([10, 11, 12, 13, 14, 15])"
      ]
     },
     "execution_count": 16,
     "metadata": {},
     "output_type": "execute_result"
    }
   ],
   "source": [
    "element,count =np.unique(arr1,return_counts=True)\n",
    "element\n"
   ]
  },
  {
   "cell_type": "code",
   "execution_count": 17,
   "id": "463061c8-d4fc-486f-a97e-53b3b97eb7d4",
   "metadata": {},
   "outputs": [
    {
     "data": {
      "text/plain": [
       "array([1, 1, 1, 1, 1, 1])"
      ]
     },
     "execution_count": 17,
     "metadata": {},
     "output_type": "execute_result"
    }
   ],
   "source": [
    "count"
   ]
  },
  {
   "cell_type": "code",
   "execution_count": 18,
   "id": "00d36320-f14b-407b-94c3-212718b50311",
   "metadata": {},
   "outputs": [],
   "source": [
    "# Boolean operation"
   ]
  },
  {
   "cell_type": "code",
   "execution_count": 27,
   "id": "f0097504-fe43-4938-a3ce-84b3d2990edb",
   "metadata": {},
   "outputs": [
    {
     "data": {
      "text/plain": [
       "array([False, False, False, False,  True,  True])"
      ]
     },
     "execution_count": 27,
     "metadata": {},
     "output_type": "execute_result"
    }
   ],
   "source": [
    "bool_arr=arr1>13\n",
    "bool_arr"
   ]
  },
  {
   "cell_type": "code",
   "execution_count": null,
   "id": "c179ada2-098f-49bf-81be-ade3fc8328e0",
   "metadata": {},
   "outputs": [],
   "source": [
    "# filter array"
   ]
  },
  {
   "cell_type": "code",
   "execution_count": 26,
   "id": "0d518efa-0bbc-41be-a3aa-256b27db5e1d",
   "metadata": {},
   "outputs": [
    {
     "data": {
      "text/plain": [
       "array([15, 16, 17])"
      ]
     },
     "execution_count": 26,
     "metadata": {},
     "output_type": "execute_result"
    }
   ],
   "source": [
    "arr=np.array([15,16,17,18])\n",
    "x=[True,True,True,False]\n",
    "newarr=arr[x]\n",
    "newarr"
   ]
  },
  {
   "cell_type": "code",
   "execution_count": 25,
   "id": "0effaf49-bf1d-409a-aa6d-c3fca1341fb9",
   "metadata": {},
   "outputs": [
    {
     "data": {
      "text/plain": [
       "array([15])"
      ]
     },
     "execution_count": 25,
     "metadata": {},
     "output_type": "execute_result"
    }
   ],
   "source": [
    "Aarr=np.array([1,2,3,4])\n",
    "x=[True,False,False,False]\n",
    "newarr=arr[x]\n",
    "newarr"
   ]
  },
  {
   "cell_type": "code",
   "execution_count": 31,
   "id": "63f79767-415f-4d51-af1a-e4e2e2865b89",
   "metadata": {},
   "outputs": [
    {
     "data": {
      "text/plain": [
       "array([14, 15])"
      ]
     },
     "execution_count": 31,
     "metadata": {},
     "output_type": "execute_result"
    }
   ],
   "source": [
    "filtered_data=arr1[bool_arr]\n",
    "filtered_data"
   ]
  },
  {
   "cell_type": "code",
   "execution_count": null,
   "id": "373c7d76-1374-48d0-b8ac-70ef2d011d86",
   "metadata": {},
   "outputs": [],
   "source": []
  },
  {
   "cell_type": "code",
   "execution_count": null,
   "id": "b6f45bcf-972d-440b-9905-d3aeeeaf169f",
   "metadata": {},
   "outputs": [],
   "source": []
  },
  {
   "cell_type": "code",
   "execution_count": null,
   "id": "19db846e-5a0f-481a-92e9-493c680d5cc4",
   "metadata": {},
   "outputs": [],
   "source": []
  },
  {
   "cell_type": "code",
   "execution_count": null,
   "id": "9fb31732-f38c-4f34-ae76-a1d8e1ad6f95",
   "metadata": {},
   "outputs": [],
   "source": []
  }
 ],
 "metadata": {
  "kernelspec": {
   "display_name": "Python 3 (ipykernel)",
   "language": "python",
   "name": "python3"
  },
  "language_info": {
   "codemirror_mode": {
    "name": "ipython",
    "version": 3
   },
   "file_extension": ".py",
   "mimetype": "text/x-python",
   "name": "python",
   "nbconvert_exporter": "python",
   "pygments_lexer": "ipython3",
   "version": "3.12.6"
  }
 },
 "nbformat": 4,
 "nbformat_minor": 5
}
